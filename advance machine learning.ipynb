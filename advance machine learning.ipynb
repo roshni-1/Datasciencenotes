{
 "cells": [
  {
   "cell_type": "markdown",
   "id": "6a8df6b9-0138-4251-91c6-687b688148bd",
   "metadata": {},
   "source": [
    "# Advanced Machine Learning Concepts Notebook\n",
    "\n",
    "## 1. Feature Engineering and Selection\n",
    "\n",
    "### 1.1 Feature Engineering Techniques\n",
    "- Polynomial Features\n",
    "- Binning\n",
    "- Interaction Terms\n",
    "- Text Processing\n",
    "- Date and Time Features\n",
    "\n",
    "### 1.2 Feature Selection Methods\n",
    "- Recursive Feature Elimination (RFE)\n",
    "- Feature Importance from Trees\n",
    "- LASSO Regression (L1 Regularization)\n",
    "\n",
    "## 2. Model Evaluation and Metrics\n",
    "\n",
    "### 2.1 Classification Metrics\n",
    "- Accuracy, Precision, Recall, F1-Score\n",
    "- ROC Curve and AUC\n",
    "- Confusion Matrix\n",
    "\n",
    "### 2.2 Regression Metrics\n",
    "- Mean Absolute Error (MAE)\n",
    "- Mean Squared Error (MSE)\n",
    "- R-squared (R2)\n",
    "\n",
    "### 2.3 Cross-Validation Techniques\n",
    "- k-Fold Cross-Validation\n",
    "- Stratified Cross-Validation\n",
    "- Time Series Cross-Validation\n",
    "\n",
    "## 3. Ensemble Learning\n",
    "\n",
    "### 3.1 Bagging\n",
    "- Random Forest\n",
    "- Bagging Classifier\n",
    "\n",
    "### 3.2 Boosting\n",
    "- AdaBoost\n",
    "- Gradient Boosting\n",
    "- XGBoost\n",
    "\n",
    "### 3.3 Stacking\n",
    "- Combining Multiple Models\n",
    "\n",
    "## 4. Hyperparameter Tuning\n",
    "\n",
    "### 4.1 Grid Search\n",
    "- Searching Hyperparameter Space\n",
    "\n",
    "### 4.2 Randomized Search\n",
    "- Randomized Hyperparameter Optimization\n",
    "\n",
    "### 4.3 Bayesian Optimization\n",
    "- Probabilistic Model-Based Optimization\n",
    "\n",
    "## 5. Unsupervised Learning\n",
    "\n",
    "### 5.1 Clustering\n",
    "- K-Means Clustering\n",
    "- Hierarchical Clustering\n",
    "\n",
    "### 5.2 Dimensionality Reduction\n",
    "- Principal Component Analysis (PCA)\n",
    "- t-Distributed Stochastic Neighbor Embedding (t-SNE)\n",
    "\n",
    "## 6. Deep Learning\n",
    "\n",
    "### 6.1 Neural Networks with TensorFlow/Keras\n",
    "- Building and Training Neural Networks\n",
    "- Convolutional Neural Networks (CNNs)\n",
    "- Recurrent Neural Networks (RNNs)\n",
    "\n",
    "### 6.2 Transfer Learning\n",
    "- Using Pre-trained Models\n",
    "- Fine-tuning\n"
   ]
  },
  {
   "cell_type": "markdown",
   "id": "23ce9685-b31b-441c-89e4-99dce7c7e3dd",
   "metadata": {},
   "source": [
    "# 1. Feature Engineering and Selection\n",
    "\n",
    "\n",
    "\n",
    "## 1.1 Feature Engineering Techniques\n",
    "\n",
    "### 1.1.1 Polynomial Features\r\n",
    "\n",
    "Polynomial features are a way to generate features by raising the existing features to a power. It can be particularly useful in capturing nonlinear relationships in the data\n",
    "\n",
    ".\n",
    "\n"
   ]
  },
  {
   "cell_type": "code",
   "execution_count": 1,
   "id": "bc1f556c-fe75-4727-ac35-c4f19179e1f4",
   "metadata": {},
   "outputs": [
    {
     "name": "stdout",
     "output_type": "stream",
     "text": [
      "Original Data:\n",
      "[[2 3]\n",
      " [1 4]\n",
      " [5 2]]\n",
      "\n",
      "Polynomial Features (Degree 2):\n",
      "[[ 1.  2.  3.  4.  6.  9.]\n",
      " [ 1.  1.  4.  1.  4. 16.]\n",
      " [ 1.  5.  2. 25. 10.  4.]]\n"
     ]
    }
   ],
   "source": [
    "from sklearn.preprocessing import PolynomialFeatures\n",
    "import numpy as np\n",
    "\n",
    "# Sample data\n",
    "data = np.array([[2, 3],\n",
    "                 [1, 4],\n",
    "                 [5, 2]])\n",
    "\n",
    "# Applying polynomial features of degree 2\n",
    "poly = PolynomialFeatures(degree=2)\n",
    "poly_features = poly.fit_transform(data)\n",
    "\n",
    "print(\"Original Data:\")\n",
    "print(data)\n",
    "print(\"\\nPolynomial Features (Degree 2):\")\n",
    "print(poly_features)\n"
   ]
  },
  {
   "cell_type": "markdown",
   "id": "b992b71d-d023-4bb3-abca-06839f89aa3f",
   "metadata": {},
   "source": [
    "### 1.1.2 Binning\n",
    "\n",
    "Binning involves converting numerical variables into categorical bins. It can help deal with outliers and convert continuous data into discrete categories.\n",
    "\n"
   ]
  },
  {
   "cell_type": "code",
   "execution_count": 2,
   "id": "bad3dc66-d1e5-4d45-9478-ebe408e72b6a",
   "metadata": {},
   "outputs": [
    {
     "name": "stdout",
     "output_type": "stream",
     "text": [
      "   Age Age Category\n",
      "0   25        Young\n",
      "1   30        Young\n",
      "2   35  Middle-aged\n",
      "3   40  Middle-aged\n",
      "4   45  Middle-aged\n",
      "5   50  Middle-aged\n",
      "6   55       Senior\n",
      "7   60       Senior\n",
      "8   65       Senior\n",
      "9   70       Senior\n"
     ]
    }
   ],
   "source": [
    "import pandas as pd\n",
    "\n",
    "# Sample data\n",
    "data = {'Age': [25, 30, 35, 40, 45, 50, 55, 60, 65, 70]}\n",
    "df = pd.DataFrame(data)\n",
    "\n",
    "# Binning the 'Age' column into categories\n",
    "bins = [0, 30, 50, 100]\n",
    "labels = ['Young', 'Middle-aged', 'Senior']\n",
    "df['Age Category'] = pd.cut(df['Age'], bins=bins, labels=labels)\n",
    "\n",
    "print(df)\n"
   ]
  },
  {
   "cell_type": "markdown",
   "id": "ca6f368c-29d9-46f5-8ee0-2a297c2d8ef5",
   "metadata": {},
   "source": [
    "### 1.1.3 Interaction Terms\n",
    "\n",
    "Interaction terms are created by multiplying two or more features together. They can help capture complex relationships between features."
   ]
  },
  {
   "cell_type": "code",
   "execution_count": 3,
   "id": "2567b249-30d3-4e37-b940-798adf42c348",
   "metadata": {},
   "outputs": [
    {
     "name": "stdout",
     "output_type": "stream",
     "text": [
      "Original Data:\n",
      "[[2 3]\n",
      " [1 4]\n",
      " [5 2]]\n",
      "\n",
      "Interaction Terms:\n",
      "[ 6  4 10]\n"
     ]
    }
   ],
   "source": [
    "# Sample data\n",
    "data = np.array([[2, 3],\n",
    "                 [1, 4],\n",
    "                 [5, 2]])\n",
    "\n",
    "# Creating interaction terms manually\n",
    "interaction_terms = data[:, 0] * data[:, 1]\n",
    "\n",
    "print(\"Original Data:\")\n",
    "print(data)\n",
    "print(\"\\nInteraction Terms:\")\n",
    "print(interaction_terms)\n"
   ]
  },
  {
   "cell_type": "markdown",
   "id": "7b16b7c9-b10f-4e6a-9f55-e8d2b53d3079",
   "metadata": {},
   "source": [
    "### 1.1.4 Text Processing\n",
    "\n",
    "Text processing techniques include tokenization, stemming, and vectorization. These are essential for converting text data into a format suitable for machine learning algorithms."
   ]
  },
  {
   "cell_type": "code",
   "execution_count": 4,
   "id": "aac887de-4642-46c2-9876-14a3e292bc03",
   "metadata": {},
   "outputs": [
    {
     "name": "stdout",
     "output_type": "stream",
     "text": [
      "Vocabulary:\n",
      "['and' 'document' 'first' 'is' 'one' 'second' 'the' 'third' 'this']\n",
      "\n",
      "Vectorized Data:\n",
      "[[0 1 1 1 0 0 1 0 1]\n",
      " [0 2 0 1 0 1 1 0 1]\n",
      " [1 0 0 1 1 0 1 1 1]\n",
      " [0 1 1 1 0 0 1 0 1]]\n"
     ]
    }
   ],
   "source": [
    "from sklearn.feature_extraction.text import CountVectorizer\n",
    "\n",
    "# Sample text data\n",
    "corpus = [\n",
    "    'This is the first document.',\n",
    "    'This document is the second document.',\n",
    "    'And this is the third one.',\n",
    "    'Is this the first document?'\n",
    "]\n",
    "\n",
    "# Tokenization and vectorization using CountVectorizer\n",
    "vectorizer = CountVectorizer()\n",
    "X = vectorizer.fit_transform(corpus)\n",
    "\n",
    "print(\"Vocabulary:\")\n",
    "print(vectorizer.get_feature_names_out())\n",
    "print(\"\\nVectorized Data:\")\n",
    "print(X.toarray())\n"
   ]
  },
  {
   "cell_type": "markdown",
   "id": "2f78ac04-62ad-4d01-b550-b6d0beac737e",
   "metadata": {},
   "source": [
    "### 1.1.5 Date and Time Features\n",
    "\n",
    "\n",
    "Date and time features can be extracted from timestamps to provide valuable information to the machine learning model, such as day of the week, month, or hour."
   ]
  },
  {
   "cell_type": "code",
   "execution_count": 5,
   "id": "8f248e90-ad41-4d7d-b8c5-4b5076bdb7fc",
   "metadata": {},
   "outputs": [
    {
     "name": "stdout",
     "output_type": "stream",
     "text": [
      "            Timestamp  Day of Week  Hour\n",
      "0 2023-09-30 08:15:00            5     8\n",
      "1 2023-09-30 12:45:00            5    12\n",
      "2 2023-09-30 18:30:00            5    18\n"
     ]
    }
   ],
   "source": [
    "import pandas as pd\n",
    "\n",
    "# Sample data with timestamps\n",
    "data = {'Timestamp': ['2023-09-30 08:15:00', '2023-09-30 12:45:00', '2023-09-30 18:30:00']}\n",
    "df = pd.DataFrame(data)\n",
    "\n",
    "# Converting 'Timestamp' to datetime format\n",
    "df['Timestamp'] = pd.to_datetime(df['Timestamp'])\n",
    "\n",
    "# Extracting date and time features\n",
    "df['Day of Week'] = df['Timestamp'].dt.dayofweek\n",
    "df['Hour'] = df['Timestamp'].dt.hour\n",
    "\n",
    "print(df)\n"
   ]
  },
  {
   "cell_type": "markdown",
   "id": "0b53c67d-69d2-48b4-9e31-2701d4f2cd72",
   "metadata": {},
   "source": [
    "## 1.2 Feature Selection Methods\n",
    "\n",
    "### 1.2.1 Recursive Feature Elimination (RFE)\r\n",
    "\n",
    "Recursive Feature Elimination (RFE) is a feature selection technique that recursively removes features and builds a model on the remaining features. It ranks features based on their importance and eliminates the least significant ones.\n"
   ]
  },
  {
   "cell_type": "code",
   "execution_count": 6,
   "id": "ef531251-a44e-4e56-9c2b-708c53b33b62",
   "metadata": {},
   "outputs": [
    {
     "name": "stdout",
     "output_type": "stream",
     "text": [
      "Selected Features:\n",
      "[False False  True False  True False False False  True False]\n"
     ]
    }
   ],
   "source": [
    "from sklearn.feature_selection import RFE\n",
    "from sklearn.linear_model import LinearRegression\n",
    "from sklearn.datasets import load_diabetes\n",
    "\n",
    "# Load diabetes dataset as an example\n",
    "diabetes = load_diabetes()\n",
    "X, y = diabetes.data, diabetes.target\n",
    "\n",
    "# Creating a linear regression model\n",
    "model = LinearRegression()\n",
    "\n",
    "# Using RFE to select top 3 features\n",
    "rfe = RFE(estimator=model, n_features_to_select=3)\n",
    "X_rfe = rfe.fit_transform(X, y)\n",
    "\n",
    "print(\"Selected Features:\")\n",
    "print(rfe.support_)\n"
   ]
  },
  {
   "cell_type": "markdown",
   "id": "25e2092c-ee8f-4be7-b896-2d5f9d82534a",
   "metadata": {},
   "source": [
    "In this example, RFE selects the top 3 features based on a Linear Regression model.\n",
    "\n",
    "### 1.2.2 Feature Importance from Trees\n",
    "\n",
    "\n",
    "Feature Importance from Trees can be obtained from tree-based algorithms like Random Forest or Gradient Boosting. It calculates feature importance scores based on how frequently a feature is used to split the data across all decision trees."
   ]
  },
  {
   "cell_type": "code",
   "execution_count": 7,
   "id": "42a68637-a320-4181-ae84-ae010d813bc4",
   "metadata": {},
   "outputs": [
    {
     "name": "stdout",
     "output_type": "stream",
     "text": [
      "Feature Importances:\n",
      "[0.10612762 0.02167809 0.43612951 0.43606478]\n"
     ]
    }
   ],
   "source": [
    "from sklearn.ensemble import RandomForestClassifier\n",
    "from sklearn.datasets import load_iris\n",
    "\n",
    "# Load iris dataset as an example\n",
    "iris = load_iris()\n",
    "X, y = iris.data, iris.target\n",
    "\n",
    "# Creating a Random Forest Classifier\n",
    "model = RandomForestClassifier(n_estimators=100, random_state=42)\n",
    "model.fit(X, y)\n",
    "\n",
    "# Getting feature importances\n",
    "feature_importances = model.feature_importances_\n",
    "\n",
    "print(\"Feature Importances:\")\n",
    "print(feature_importances)\n"
   ]
  },
  {
   "cell_type": "markdown",
   "id": "a3c65cb9-3fde-467b-a11d-cb982aa9f4a1",
   "metadata": {},
   "source": [
    "In this example, feature importances are calculated using a Random Forest Classifier on the Iris dataset.\n",
    "\n",
    "### 1.2.3 LASSO Regression (L1 Regularization)\n",
    "\n",
    "    \n",
    "    LASSO Regression (Least Absolute Shrinkage and Selection Operator) uses L1 regularization to penalize the absolute size of coefficients, encouraging some of them to be exactly zero. This leads to feature selection."
   ]
  },
  {
   "cell_type": "code",
   "execution_count": 8,
   "id": "e0c57bd2-60d4-4f3e-ba6e-a29e8f5ec531",
   "metadata": {},
   "outputs": [
    {
     "name": "stdout",
     "output_type": "stream",
     "text": [
      "Selected Features:\n",
      "['sex', 'bmi', 'bp', 's1', 's3', 's5', 's6']\n"
     ]
    }
   ],
   "source": [
    "from sklearn.linear_model import Lasso\n",
    "from sklearn.datasets import load_diabetes\n",
    "from sklearn.model_selection import train_test_split\n",
    "\n",
    "# Load diabetes dataset as an example\n",
    "diabetes = load_diabetes()\n",
    "X, y = diabetes.data, diabetes.target\n",
    "\n",
    "# Splitting data into training and testing sets\n",
    "X_train, X_test, y_train, y_test = train_test_split(X, y, test_size=0.2, random_state=42)\n",
    "\n",
    "# Creating a LASSO Regression model\n",
    "lasso = Lasso(alpha=0.1)\n",
    "lasso.fit(X_train, y_train)\n",
    "\n",
    "# Getting coefficients (features with non-zero coefficients are selected)\n",
    "selected_features = [feature for feature, coef in zip(diabetes.feature_names, lasso.coef_) if coef != 0]\n",
    "\n",
    "print(\"Selected Features:\")\n",
    "print(selected_features)\n"
   ]
  },
  {
   "cell_type": "markdown",
   "id": "508295ad-6f25-45c0-bc73-d9bce16d19fc",
   "metadata": {},
   "source": [
    "In this example, LASSO Regression is used to select features from the Diabetes dataset.\n",
    "\n",
    "These methods offer various ways to select relevant features for your machine learning models based on different underlying principles. You can use them according to the specific requirements and characteristics of your dataset."
   ]
  },
  {
   "cell_type": "markdown",
   "id": "a7bae040-fd07-429d-a9ae-ad83136ff581",
   "metadata": {},
   "source": [
    "## 2.1 Classification Metrics\n",
    "\n",
    "### 2.1.1 Accuracy\r\n",
    "\n",
    "Accuracy measures the ratio of correctly predicted instances to the total instances. It's a common metric for classification problems."
   ]
  },
  {
   "cell_type": "code",
   "execution_count": 9,
   "id": "1609e972-d7f7-4486-bf7c-5619d4798e28",
   "metadata": {},
   "outputs": [
    {
     "name": "stdout",
     "output_type": "stream",
     "text": [
      "Accuracy: 1.00\n"
     ]
    }
   ],
   "source": [
    "from sklearn.metrics import accuracy_score\n",
    "from sklearn.model_selection import train_test_split\n",
    "from sklearn.ensemble import RandomForestClassifier\n",
    "from sklearn.datasets import load_iris\n",
    "\n",
    "# Load iris dataset as an example\n",
    "iris = load_iris()\n",
    "X, y = iris.data, iris.target\n",
    "\n",
    "# Splitting data into training and testing sets\n",
    "X_train, X_test, y_train, y_test = train_test_split(X, y, test_size=0.2, random_state=42)\n",
    "\n",
    "# Creating a Random Forest Classifier model\n",
    "model = RandomForestClassifier(n_estimators=100, random_state=42)\n",
    "model.fit(X_train, y_train)\n",
    "\n",
    "# Making predictions\n",
    "predictions = model.predict(X_test)\n",
    "\n",
    "# Calculating accuracy\n",
    "accuracy = accuracy_score(y_test, predictions)\n",
    "print(f'Accuracy: {accuracy:.2f}')\n"
   ]
  },
  {
   "cell_type": "markdown",
   "id": "8c13a319-83fd-4d59-aaec-a83a6cc9938b",
   "metadata": {},
   "source": [
    "### 2.1.2 Precision, Recall, F1-Score\n",
    "\n",
    "Precision measures the ratio of correctly predicted positive observations to the total predicted positives. Recall (Sensitivity) measures the ratio of correctly predicted positive observations to all observations in the actual class. F1-Score is the harmonic mean of precision and recall."
   ]
  },
  {
   "cell_type": "code",
   "execution_count": 10,
   "id": "27cb3ca0-0a7d-42cb-9327-0702b68262e2",
   "metadata": {},
   "outputs": [
    {
     "name": "stdout",
     "output_type": "stream",
     "text": [
      "Precision: 1.00\n",
      "Recall: 1.00\n",
      "F1-Score: 1.00\n"
     ]
    }
   ],
   "source": [
    "from sklearn.metrics import precision_score, recall_score, f1_score\n",
    "\n",
    "# Assuming predictions and true labels are available\n",
    "precision = precision_score(y_test, predictions, average='weighted')\n",
    "recall = recall_score(y_test, predictions, average='weighted')\n",
    "f1 = f1_score(y_test, predictions, average='weighted')\n",
    "\n",
    "print(f'Precision: {precision:.2f}')\n",
    "print(f'Recall: {recall:.2f}')\n",
    "print(f'F1-Score: {f1:.2f}')\n"
   ]
  },
  {
   "cell_type": "markdown",
   "id": "df1329ea-7d4c-4911-8dc7-7bc8d3bac3dd",
   "metadata": {},
   "source": [
    "### 2.1.3 ROC Curve and AUC\n",
    "\n",
    "ROC (Receiver Operating Characteristic) Curve is a graphical representation of the true positive rate against the false positive rate. AUC (Area Under Curve) represents the degree or measure of separability.\n"
   ]
  },
  {
   "cell_type": "code",
   "execution_count": 11,
   "id": "7e12980f-f3c9-492f-b656-505b57496cde",
   "metadata": {
    "collapsed": true,
    "jupyter": {
     "outputs_hidden": true
    }
   },
   "outputs": [
    {
     "ename": "ValueError",
     "evalue": "multiclass format is not supported",
     "output_type": "error",
     "traceback": [
      "\u001b[1;31m---------------------------------------------------------------------------\u001b[0m",
      "\u001b[1;31mValueError\u001b[0m                                Traceback (most recent call last)",
      "Cell \u001b[1;32mIn[11], line 8\u001b[0m\n\u001b[0;32m      5\u001b[0m probs \u001b[38;5;241m=\u001b[39m model\u001b[38;5;241m.\u001b[39mpredict_proba(X_test)[:, \u001b[38;5;241m1\u001b[39m]\n\u001b[0;32m      7\u001b[0m \u001b[38;5;66;03m# Calculating ROC curve and AUC\u001b[39;00m\n\u001b[1;32m----> 8\u001b[0m fpr, tpr, thresholds \u001b[38;5;241m=\u001b[39m \u001b[43mroc_curve\u001b[49m\u001b[43m(\u001b[49m\u001b[43my_test\u001b[49m\u001b[43m,\u001b[49m\u001b[43m \u001b[49m\u001b[43mprobs\u001b[49m\u001b[43m)\u001b[49m\n\u001b[0;32m      9\u001b[0m roc_auc \u001b[38;5;241m=\u001b[39m auc(fpr, tpr)\n\u001b[0;32m     11\u001b[0m \u001b[38;5;66;03m# Plotting ROC curve\u001b[39;00m\n",
      "File \u001b[1;32m~\\AppData\\Local\\Programs\\Python\\Python311\\Lib\\site-packages\\sklearn\\utils\\_param_validation.py:211\u001b[0m, in \u001b[0;36mvalidate_params.<locals>.decorator.<locals>.wrapper\u001b[1;34m(*args, **kwargs)\u001b[0m\n\u001b[0;32m    205\u001b[0m \u001b[38;5;28;01mtry\u001b[39;00m:\n\u001b[0;32m    206\u001b[0m     \u001b[38;5;28;01mwith\u001b[39;00m config_context(\n\u001b[0;32m    207\u001b[0m         skip_parameter_validation\u001b[38;5;241m=\u001b[39m(\n\u001b[0;32m    208\u001b[0m             prefer_skip_nested_validation \u001b[38;5;129;01mor\u001b[39;00m global_skip_validation\n\u001b[0;32m    209\u001b[0m         )\n\u001b[0;32m    210\u001b[0m     ):\n\u001b[1;32m--> 211\u001b[0m         \u001b[38;5;28;01mreturn\u001b[39;00m \u001b[43mfunc\u001b[49m\u001b[43m(\u001b[49m\u001b[38;5;241;43m*\u001b[39;49m\u001b[43margs\u001b[49m\u001b[43m,\u001b[49m\u001b[43m \u001b[49m\u001b[38;5;241;43m*\u001b[39;49m\u001b[38;5;241;43m*\u001b[39;49m\u001b[43mkwargs\u001b[49m\u001b[43m)\u001b[49m\n\u001b[0;32m    212\u001b[0m \u001b[38;5;28;01mexcept\u001b[39;00m InvalidParameterError \u001b[38;5;28;01mas\u001b[39;00m e:\n\u001b[0;32m    213\u001b[0m     \u001b[38;5;66;03m# When the function is just a wrapper around an estimator, we allow\u001b[39;00m\n\u001b[0;32m    214\u001b[0m     \u001b[38;5;66;03m# the function to delegate validation to the estimator, but we replace\u001b[39;00m\n\u001b[0;32m    215\u001b[0m     \u001b[38;5;66;03m# the name of the estimator by the name of the function in the error\u001b[39;00m\n\u001b[0;32m    216\u001b[0m     \u001b[38;5;66;03m# message to avoid confusion.\u001b[39;00m\n\u001b[0;32m    217\u001b[0m     msg \u001b[38;5;241m=\u001b[39m re\u001b[38;5;241m.\u001b[39msub(\n\u001b[0;32m    218\u001b[0m         \u001b[38;5;124mr\u001b[39m\u001b[38;5;124m\"\u001b[39m\u001b[38;5;124mparameter of \u001b[39m\u001b[38;5;124m\\\u001b[39m\u001b[38;5;124mw+ must be\u001b[39m\u001b[38;5;124m\"\u001b[39m,\n\u001b[0;32m    219\u001b[0m         \u001b[38;5;124mf\u001b[39m\u001b[38;5;124m\"\u001b[39m\u001b[38;5;124mparameter of \u001b[39m\u001b[38;5;132;01m{\u001b[39;00mfunc\u001b[38;5;241m.\u001b[39m\u001b[38;5;18m__qualname__\u001b[39m\u001b[38;5;132;01m}\u001b[39;00m\u001b[38;5;124m must be\u001b[39m\u001b[38;5;124m\"\u001b[39m,\n\u001b[0;32m    220\u001b[0m         \u001b[38;5;28mstr\u001b[39m(e),\n\u001b[0;32m    221\u001b[0m     )\n",
      "File \u001b[1;32m~\\AppData\\Local\\Programs\\Python\\Python311\\Lib\\site-packages\\sklearn\\metrics\\_ranking.py:1095\u001b[0m, in \u001b[0;36mroc_curve\u001b[1;34m(y_true, y_score, pos_label, sample_weight, drop_intermediate)\u001b[0m\n\u001b[0;32m    993\u001b[0m \u001b[38;5;129m@validate_params\u001b[39m(\n\u001b[0;32m    994\u001b[0m     {\n\u001b[0;32m    995\u001b[0m         \u001b[38;5;124m\"\u001b[39m\u001b[38;5;124my_true\u001b[39m\u001b[38;5;124m\"\u001b[39m: [\u001b[38;5;124m\"\u001b[39m\u001b[38;5;124marray-like\u001b[39m\u001b[38;5;124m\"\u001b[39m],\n\u001b[1;32m   (...)\u001b[0m\n\u001b[0;32m   1004\u001b[0m     y_true, y_score, \u001b[38;5;241m*\u001b[39m, pos_label\u001b[38;5;241m=\u001b[39m\u001b[38;5;28;01mNone\u001b[39;00m, sample_weight\u001b[38;5;241m=\u001b[39m\u001b[38;5;28;01mNone\u001b[39;00m, drop_intermediate\u001b[38;5;241m=\u001b[39m\u001b[38;5;28;01mTrue\u001b[39;00m\n\u001b[0;32m   1005\u001b[0m ):\n\u001b[0;32m   1006\u001b[0m \u001b[38;5;250m    \u001b[39m\u001b[38;5;124;03m\"\"\"Compute Receiver operating characteristic (ROC).\u001b[39;00m\n\u001b[0;32m   1007\u001b[0m \n\u001b[0;32m   1008\u001b[0m \u001b[38;5;124;03m    Note: this implementation is restricted to the binary classification task.\u001b[39;00m\n\u001b[1;32m   (...)\u001b[0m\n\u001b[0;32m   1093\u001b[0m \u001b[38;5;124;03m    array([ inf, 0.8 , 0.4 , 0.35, 0.1 ])\u001b[39;00m\n\u001b[0;32m   1094\u001b[0m \u001b[38;5;124;03m    \"\"\"\u001b[39;00m\n\u001b[1;32m-> 1095\u001b[0m     fps, tps, thresholds \u001b[38;5;241m=\u001b[39m \u001b[43m_binary_clf_curve\u001b[49m\u001b[43m(\u001b[49m\n\u001b[0;32m   1096\u001b[0m \u001b[43m        \u001b[49m\u001b[43my_true\u001b[49m\u001b[43m,\u001b[49m\u001b[43m \u001b[49m\u001b[43my_score\u001b[49m\u001b[43m,\u001b[49m\u001b[43m \u001b[49m\u001b[43mpos_label\u001b[49m\u001b[38;5;241;43m=\u001b[39;49m\u001b[43mpos_label\u001b[49m\u001b[43m,\u001b[49m\u001b[43m \u001b[49m\u001b[43msample_weight\u001b[49m\u001b[38;5;241;43m=\u001b[39;49m\u001b[43msample_weight\u001b[49m\n\u001b[0;32m   1097\u001b[0m \u001b[43m    \u001b[49m\u001b[43m)\u001b[49m\n\u001b[0;32m   1099\u001b[0m     \u001b[38;5;66;03m# Attempt to drop thresholds corresponding to points in between and\u001b[39;00m\n\u001b[0;32m   1100\u001b[0m     \u001b[38;5;66;03m# collinear with other points. These are always suboptimal and do not\u001b[39;00m\n\u001b[0;32m   1101\u001b[0m     \u001b[38;5;66;03m# appear on a plotted ROC curve (and thus do not affect the AUC).\u001b[39;00m\n\u001b[1;32m   (...)\u001b[0m\n\u001b[0;32m   1106\u001b[0m     \u001b[38;5;66;03m# but does not drop more complicated cases like fps = [1, 3, 7],\u001b[39;00m\n\u001b[0;32m   1107\u001b[0m     \u001b[38;5;66;03m# tps = [1, 2, 4]; there is no harm in keeping too many thresholds.\u001b[39;00m\n\u001b[0;32m   1108\u001b[0m     \u001b[38;5;28;01mif\u001b[39;00m drop_intermediate \u001b[38;5;129;01mand\u001b[39;00m \u001b[38;5;28mlen\u001b[39m(fps) \u001b[38;5;241m>\u001b[39m \u001b[38;5;241m2\u001b[39m:\n",
      "File \u001b[1;32m~\\AppData\\Local\\Programs\\Python\\Python311\\Lib\\site-packages\\sklearn\\metrics\\_ranking.py:804\u001b[0m, in \u001b[0;36m_binary_clf_curve\u001b[1;34m(y_true, y_score, pos_label, sample_weight)\u001b[0m\n\u001b[0;32m    802\u001b[0m y_type \u001b[38;5;241m=\u001b[39m type_of_target(y_true, input_name\u001b[38;5;241m=\u001b[39m\u001b[38;5;124m\"\u001b[39m\u001b[38;5;124my_true\u001b[39m\u001b[38;5;124m\"\u001b[39m)\n\u001b[0;32m    803\u001b[0m \u001b[38;5;28;01mif\u001b[39;00m \u001b[38;5;129;01mnot\u001b[39;00m (y_type \u001b[38;5;241m==\u001b[39m \u001b[38;5;124m\"\u001b[39m\u001b[38;5;124mbinary\u001b[39m\u001b[38;5;124m\"\u001b[39m \u001b[38;5;129;01mor\u001b[39;00m (y_type \u001b[38;5;241m==\u001b[39m \u001b[38;5;124m\"\u001b[39m\u001b[38;5;124mmulticlass\u001b[39m\u001b[38;5;124m\"\u001b[39m \u001b[38;5;129;01mand\u001b[39;00m pos_label \u001b[38;5;129;01mis\u001b[39;00m \u001b[38;5;129;01mnot\u001b[39;00m \u001b[38;5;28;01mNone\u001b[39;00m)):\n\u001b[1;32m--> 804\u001b[0m     \u001b[38;5;28;01mraise\u001b[39;00m \u001b[38;5;167;01mValueError\u001b[39;00m(\u001b[38;5;124m\"\u001b[39m\u001b[38;5;132;01m{0}\u001b[39;00m\u001b[38;5;124m format is not supported\u001b[39m\u001b[38;5;124m\"\u001b[39m\u001b[38;5;241m.\u001b[39mformat(y_type))\n\u001b[0;32m    806\u001b[0m check_consistent_length(y_true, y_score, sample_weight)\n\u001b[0;32m    807\u001b[0m y_true \u001b[38;5;241m=\u001b[39m column_or_1d(y_true)\n",
      "\u001b[1;31mValueError\u001b[0m: multiclass format is not supported"
     ]
    }
   ],
   "source": [
    "from sklearn.metrics import roc_curve, auc\n",
    "import matplotlib.pyplot as plt\n",
    "\n",
    "# Assuming probabilities of class 1 are available (for binary classification)\n",
    "probs = model.predict_proba(X_test)[:, 1]\n",
    "\n",
    "# Calculating ROC curve and AUC\n",
    "fpr, tpr, thresholds = roc_curve(y_test, probs)\n",
    "roc_auc = auc(fpr, tpr)\n",
    "\n",
    "# Plotting ROC curve\n",
    "plt.figure()\n",
    "plt.plot(fpr, tpr, color='darkorange', lw=2, label=f'ROC Curve (AUC = {roc_auc:.2f})')\n",
    "plt.plot([0, 1], [0, 1], color='navy', lw=2, linestyle='--')\n",
    "plt.xlabel('False Positive Rate')\n",
    "plt.ylabel('True Positive Rate')\n",
    "plt.title('ROC Curve')\n",
    "plt.legend(loc='lower right')\n",
    "plt.show()\n"
   ]
  },
  {
   "cell_type": "markdown",
   "id": "46a1af10-18cd-4772-acd1-923ad3d1569c",
   "metadata": {},
   "source": [
    "### 2.1.4 Confusion Matrix\n",
    "Confusion Matrix is a table used for evaluating the performance of a classification algorithm."
   ]
  },
  {
   "cell_type": "code",
   "execution_count": 12,
   "id": "9e61d421-4ff9-49b3-9984-1b0458b89584",
   "metadata": {},
   "outputs": [
    {
     "name": "stdout",
     "output_type": "stream",
     "text": [
      "Confusion Matrix:\n",
      "[[10  0  0]\n",
      " [ 0  9  0]\n",
      " [ 0  0 11]]\n"
     ]
    }
   ],
   "source": [
    "from sklearn.metrics import confusion_matrix\n",
    "\n",
    "# Calculating confusion matrix\n",
    "conf_matrix = confusion_matrix(y_test, predictions)\n",
    "print('Confusion Matrix:')\n",
    "print(conf_matrix)\n"
   ]
  },
  {
   "cell_type": "markdown",
   "id": "414569ee-23ad-4c0b-a2a4-adcdb4a82b5c",
   "metadata": {},
   "source": [
    "## 2.2 Regression Metrics\n",
    "### 2.2.1 Mean Absolute Error (MAE)\n",
    "Mean Absolute Error (MAE) represents the average of the absolute errors between the predicted and actual values."
   ]
  },
  {
   "cell_type": "code",
   "execution_count": 13,
   "id": "e32378ac-3255-409b-9a5c-fa68c8a093be",
   "metadata": {},
   "outputs": [
    {
     "name": "stdout",
     "output_type": "stream",
     "text": [
      "Mean Absolute Error: 0.00\n"
     ]
    }
   ],
   "source": [
    "from sklearn.metrics import mean_absolute_error\n",
    "\n",
    "# Assuming predictions and true labels are available\n",
    "mae = mean_absolute_error(y_test, predictions)\n",
    "print(f'Mean Absolute Error: {mae:.2f}')\n"
   ]
  },
  {
   "cell_type": "markdown",
   "id": "4708e66d-fe89-4391-8740-c567458a2abf",
   "metadata": {},
   "source": [
    "### 2.2.2 Mean Squared Error (MSE) and R-squared (R2)\n",
    "Mean Squared Error (MSE) represents the average of the squared errors between predicted and actual values. R-squared (R2) represents the proportion of the variance in the dependent variable that is predictable from the independent variables"
   ]
  },
  {
   "cell_type": "code",
   "execution_count": 14,
   "id": "8fbf56ab-aa57-47db-9e36-545301f444d9",
   "metadata": {},
   "outputs": [
    {
     "name": "stdout",
     "output_type": "stream",
     "text": [
      "Mean Squared Error: 0.00\n",
      "R-squared (R2): 1.00\n"
     ]
    }
   ],
   "source": [
    "from sklearn.metrics import mean_squared_error, r2_score\n",
    "\n",
    "# Assuming predictions and true labels are available\n",
    "mse = mean_squared_error(y_test, predictions)\n",
    "r2 = r2_score(y_test, predictions)\n",
    "\n",
    "print(f'Mean Squared Error: {mse:.2f}')\n",
    "print(f'R-squared (R2): {r2:.2f}')\n"
   ]
  },
  {
   "cell_type": "markdown",
   "id": "7ed62749-44bb-433d-8849-4479fe437b3f",
   "metadata": {},
   "source": [
    "## 2.3 Cross-Validation Techniques\n",
    "### 2.3.1 k-Fold Cross-Validation\n",
    "k-Fold Cross-Validation divides the dataset into k subsets (folds) and uses each fold as a validation set while training the model on the remaining k-1 folds."
   ]
  },
  {
   "cell_type": "code",
   "execution_count": 15,
   "id": "ebbaed07-79b2-4025-80d9-7175bdb635e3",
   "metadata": {},
   "outputs": [
    {
     "name": "stdout",
     "output_type": "stream",
     "text": [
      "Cross-Validation Scores: [0.96666667 0.96666667 0.93333333 0.96666667 1.        ]\n"
     ]
    }
   ],
   "source": [
    "from sklearn.model_selection import cross_val_score\n",
    "from sklearn.ensemble import RandomForestClassifier\n",
    "from sklearn.datasets import load_iris\n",
    "\n",
    "# Load iris dataset as an example\n",
    "iris = load_iris()\n",
    "X, y = iris.data, iris.target\n",
    "\n",
    "# Creating a Random Forest Classifier model\n",
    "model = RandomForestClassifier(n_estimators=100, random_state=42)\n",
    "\n",
    "# Applying k-Fold Cross-Validation\n",
    "scores = cross_val_score(model, X, y, cv=5)  # 5-fold cross-validation\n",
    "print(\"Cross-Validation Scores:\", scores)\n"
   ]
  },
  {
   "cell_type": "markdown",
   "id": "f4e6ed5f-441e-4392-99ea-6a2cc8acf80a",
   "metadata": {},
   "source": [
    "### 2.3.2 Stratified Cross-Validation\n",
    "Stratified Cross-Validation ensures that each fold maintains the same class distribution as the original dataset."
   ]
  },
  {
   "cell_type": "code",
   "execution_count": 16,
   "id": "4bb20f7d-1052-4ddc-8668-7f68ee67aeaf",
   "metadata": {},
   "outputs": [
    {
     "name": "stdout",
     "output_type": "stream",
     "text": [
      "Accuracy: 0.9666666666666667\n",
      "Accuracy: 0.9666666666666667\n",
      "Accuracy: 0.9333333333333333\n",
      "Accuracy: 0.9666666666666667\n",
      "Accuracy: 0.9\n"
     ]
    }
   ],
   "source": [
    "from sklearn.model_selection import StratifiedKFold\n",
    "from sklearn.metrics import accuracy_score\n",
    "\n",
    "# Assuming X, y are your features and labels\n",
    "stratkf = StratifiedKFold(n_splits=5, shuffle=True, random_state=42)\n",
    "\n",
    "for train_index, test_index in stratkf.split(X, y):\n",
    "    X_train, X_test = X[train_index], X[test_index]\n",
    "    y_train, y_test = y[train_index], y[test_index]\n",
    "    \n",
    "    # Train and evaluate your model here\n",
    "    model.fit(X_train, y_train)\n",
    "    predictions = model.predict(X_test)\n",
    "    accuracy = accuracy_score(y_test, predictions)\n",
    "    print(\"Accuracy:\", accuracy)\n"
   ]
  },
  {
   "cell_type": "markdown",
   "id": "d8e1a34d-b826-474f-92ec-8500d359add1",
   "metadata": {},
   "source": [
    "### 2.3.3 Time Series Cross-Validation\n",
    "Time Series Cross-Validation is used for time series data where the order of data points matters. It involves using past data for training and future data for validation."
   ]
  },
  {
   "cell_type": "code",
   "execution_count": 17,
   "id": "4cf47e77-4a1b-4c8d-9af3-0550efb9b313",
   "metadata": {},
   "outputs": [
    {
     "name": "stdout",
     "output_type": "stream",
     "text": [
      "Mean Squared Error: 0.0\n",
      "Mean Squared Error: 1.0\n",
      "Mean Squared Error: 0.018868056956335335\n",
      "Mean Squared Error: 0.3483620695449149\n",
      "Mean Squared Error: 0.12217397712069693\n"
     ]
    }
   ],
   "source": [
    "from sklearn.model_selection import TimeSeriesSplit\n",
    "from sklearn.metrics import mean_squared_error\n",
    "from sklearn.linear_model import LinearRegression\n",
    "\n",
    "# Assuming X, y are your features and labels\n",
    "tscv = TimeSeriesSplit(n_splits=5)\n",
    "\n",
    "for train_index, test_index in tscv.split(X):\n",
    "    X_train, X_test = X[train_index], X[test_index]\n",
    "    y_train, y_test = y[train_index], y[test_index]\n",
    "    \n",
    "    # Train and evaluate your model here\n",
    "    model = LinearRegression()\n",
    "    model.fit(X_train, y_train)\n",
    "    predictions = model.predict(X_test)\n",
    "    mse = mean_squared_error(y_test, predictions)\n",
    "    print(\"Mean Squared Error:\", mse)\n"
   ]
  },
  {
   "cell_type": "markdown",
   "id": "52bb6ed3-a80a-4281-a1ab-4d0f3e4c8bef",
   "metadata": {},
   "source": [
    "## 3. Ensemble Learning\n",
    "### 3.1 Bagging\n",
    "Bagging (Bootstrap Aggregating) uses multiple instances of the same learning algorithm on different subsets of the training data.\n",
    "\n",
    "<b>Random Forest<b>\n",
    "Random Forest is an ensemble learning method that combines multiple individual decision tree models."
   ]
  },
  {
   "cell_type": "code",
   "execution_count": 18,
   "id": "d09f45aa-024b-4e97-b543-85cb2eae2f69",
   "metadata": {},
   "outputs": [],
   "source": [
    "from sklearn.ensemble import RandomForestClassifier\n",
    "\n",
    "# Assuming X, y are your features and labels\n",
    "model = RandomForestClassifier(n_estimators=100, random_state=42)\n",
    "model.fit(X_train, y_train)\n",
    "predictions = model.predict(X_test)\n"
   ]
  },
  {
   "cell_type": "markdown",
   "id": "80c6dd50-c980-48e6-865c-e216fc4dd8c8",
   "metadata": {},
   "source": [
    "### Bagging Classifier\n",
    "Bagging Classifier is a general ensemble method that can be used with any base estimator."
   ]
  },
  {
   "cell_type": "code",
   "execution_count": 19,
   "id": "34a18814-5c61-4f04-8e4c-e4f58e859729",
   "metadata": {},
   "outputs": [
    {
     "name": "stderr",
     "output_type": "stream",
     "text": [
      "C:\\Users\\irosh\\AppData\\Local\\Programs\\Python\\Python311\\Lib\\site-packages\\sklearn\\ensemble\\_base.py:156: FutureWarning: `base_estimator` was renamed to `estimator` in version 1.2 and will be removed in 1.4.\n",
      "  warnings.warn(\n"
     ]
    }
   ],
   "source": [
    "from sklearn.ensemble import BaggingClassifier\n",
    "from sklearn.tree import DecisionTreeClassifier\n",
    "\n",
    "# Assuming X, y are your features and labels\n",
    "base_estimator = DecisionTreeClassifier(random_state=42)\n",
    "model = BaggingClassifier(base_estimator=base_estimator, n_estimators=100, random_state=42)\n",
    "model.fit(X_train, y_train)\n",
    "predictions = model.predict(X_test)\n"
   ]
  },
  {
   "cell_type": "markdown",
   "id": "f09f18f2-1fed-49c3-965b-f3c40369b239",
   "metadata": {},
   "source": [
    "### 3.2 Boosting\n",
    "Boosting builds multiple models sequentially, with each model trying to correct the errors of the previous one.\n",
    "\n",
    "#### AdaBoost\n",
    "AdaBoost (Adaptive Boosting) focuses more on the difficult-to-classify samples."
   ]
  },
  {
   "cell_type": "code",
   "execution_count": null,
   "id": "897be817-4c07-4957-8efa-bb532aae4632",
   "metadata": {},
   "outputs": [],
   "source": [
    "from sklearn.ensemble import AdaBoostClassifier\n",
    "\n",
    "# Assuming X, y are your features and labels\n",
    "model = AdaBoostClassifier(n_estimators=50, random_state=42)\n",
    "model.fit(X_train, y_train)\n",
    "predictions = model.predict(X_test)\n"
   ]
  },
  {
   "cell_type": "markdown",
   "id": "e553814a-d8f4-4e32-a518-3406401c8824",
   "metadata": {},
   "source": [
    "### Gradient Boosting\n",
    "\n",
    "Gradient Boosting builds trees sequentially, with each tree trying to correct the errors of the combined model.\n",
    "\n"
   ]
  },
  {
   "cell_type": "code",
   "execution_count": 23,
   "id": "8cc92f93-4e33-4180-a09d-8063574d1535",
   "metadata": {},
   "outputs": [],
   "source": [
    "from sklearn.ensemble import GradientBoostingClassifier\n",
    "\n",
    "# Assuming X, y are your features and labels\n",
    "model = GradientBoostingClassifier(n_estimators=100, random_state=42)\n",
    "model.fit(X_train, y_train)\n",
    "predictions = model.predict(X_test)\n"
   ]
  },
  {
   "cell_type": "markdown",
   "id": "f9ef3632-392b-4fb2-be4a-e7fe79b005f4",
   "metadata": {},
   "source": [
    "### XGBoost\r\n",
    "XGBoost is an optimized and scalable version of gradient boosting."
   ]
  },
  {
   "cell_type": "code",
   "execution_count": null,
   "id": "d8ea260f-d50d-4ce5-82e5-99f1dd81cced",
   "metadata": {},
   "outputs": [],
   "source": [
    "import xgboost as xgb\n",
    "\n",
    "# Assuming X, y are your features and labels\n",
    "model = xgb.XGBClassifier(n_estimators=100, random_state=42)\n",
    "model.fit(X_train, y_train)\n",
    "predictions = model.predict(X_test)\n"
   ]
  },
  {
   "cell_type": "markdown",
   "id": "0e403d76-c25e-49d7-aed0-4d9789b4f8e5",
   "metadata": {},
   "source": [
    "## 3.3 Stacking\n",
    "\n",
    "Stacking combines multiple models using another model, known as a meta-learner."
   ]
  },
  {
   "cell_type": "code",
   "execution_count": 25,
   "id": "073e714c-968b-4477-9414-dbfe89bfe734",
   "metadata": {
    "collapsed": true,
    "jupyter": {
     "outputs_hidden": true
    }
   },
   "outputs": [
    {
     "name": "stderr",
     "output_type": "stream",
     "text": [
      "C:\\Users\\irosh\\AppData\\Local\\Programs\\Python\\Python311\\Lib\\site-packages\\sklearn\\linear_model\\_logistic.py:460: ConvergenceWarning: lbfgs failed to converge (status=1):\n",
      "STOP: TOTAL NO. of ITERATIONS REACHED LIMIT.\n",
      "\n",
      "Increase the number of iterations (max_iter) or scale the data as shown in:\n",
      "    https://scikit-learn.org/stable/modules/preprocessing.html\n",
      "Please also refer to the documentation for alternative solver options:\n",
      "    https://scikit-learn.org/stable/modules/linear_model.html#logistic-regression\n",
      "  n_iter_i = _check_optimize_result(\n",
      "C:\\Users\\irosh\\AppData\\Local\\Programs\\Python\\Python311\\Lib\\site-packages\\sklearn\\linear_model\\_logistic.py:460: ConvergenceWarning: lbfgs failed to converge (status=1):\n",
      "STOP: TOTAL NO. of ITERATIONS REACHED LIMIT.\n",
      "\n",
      "Increase the number of iterations (max_iter) or scale the data as shown in:\n",
      "    https://scikit-learn.org/stable/modules/preprocessing.html\n",
      "Please also refer to the documentation for alternative solver options:\n",
      "    https://scikit-learn.org/stable/modules/linear_model.html#logistic-regression\n",
      "  n_iter_i = _check_optimize_result(\n",
      "C:\\Users\\irosh\\AppData\\Local\\Programs\\Python\\Python311\\Lib\\site-packages\\sklearn\\linear_model\\_logistic.py:460: ConvergenceWarning: lbfgs failed to converge (status=1):\n",
      "STOP: TOTAL NO. of ITERATIONS REACHED LIMIT.\n",
      "\n",
      "Increase the number of iterations (max_iter) or scale the data as shown in:\n",
      "    https://scikit-learn.org/stable/modules/preprocessing.html\n",
      "Please also refer to the documentation for alternative solver options:\n",
      "    https://scikit-learn.org/stable/modules/linear_model.html#logistic-regression\n",
      "  n_iter_i = _check_optimize_result(\n",
      "C:\\Users\\irosh\\AppData\\Local\\Programs\\Python\\Python311\\Lib\\site-packages\\sklearn\\linear_model\\_logistic.py:460: ConvergenceWarning: lbfgs failed to converge (status=1):\n",
      "STOP: TOTAL NO. of ITERATIONS REACHED LIMIT.\n",
      "\n",
      "Increase the number of iterations (max_iter) or scale the data as shown in:\n",
      "    https://scikit-learn.org/stable/modules/preprocessing.html\n",
      "Please also refer to the documentation for alternative solver options:\n",
      "    https://scikit-learn.org/stable/modules/linear_model.html#logistic-regression\n",
      "  n_iter_i = _check_optimize_result(\n"
     ]
    }
   ],
   "source": [
    "from sklearn.ensemble import StackingClassifier\n",
    "from sklearn.ensemble import RandomForestClassifier\n",
    "from sklearn.linear_model import LogisticRegression\n",
    "\n",
    "# Assuming X, y are your features and labels\n",
    "base_estimators = [\n",
    "    ('rf', RandomForestClassifier(n_estimators=100, random_state=42)),\n",
    "    ('lr', LogisticRegression(random_state=42))\n",
    "]\n",
    "\n",
    "meta_learner = LogisticRegression()\n",
    "\n",
    "model = StackingClassifier(estimators=base_estimators, final_estimator=meta_learner)\n",
    "model.fit(X_train, y_train)\n",
    "predictions = model.predict(X_test)\n"
   ]
  },
  {
   "cell_type": "markdown",
   "id": "c79bbd86-6dc4-4722-a297-20ba224c5232",
   "metadata": {},
   "source": [
    "These techniques form the backbone of ensemble learning, offering various ways to combine multiple models for improved predictive performance\n",
    "\n",
    "## 4.1 Grid Search\r\n",
    "\n",
    "Grid Search is a hyperparameter tuning technique that exhaustively tests a predefined set of hyperparameters for a model. It evaluates all possible hyperparameter combinations and selects the best one based on cross-validated performance.\r\n",
    "\r\n",
    "\n",
    "\n",
    "\n"
   ]
  },
  {
   "cell_type": "code",
   "execution_count": 26,
   "id": "5e47d66b-0c89-4f99-884a-ba8a01ef4f2f",
   "metadata": {},
   "outputs": [
    {
     "name": "stdout",
     "output_type": "stream",
     "text": [
      "Best Hyperparameters: {'max_depth': None, 'min_samples_split': 2, 'n_estimators': 50}\n"
     ]
    }
   ],
   "source": [
    "from sklearn.model_selection import GridSearchCV\n",
    "from sklearn.ensemble import RandomForestClassifier\n",
    "from sklearn.datasets import load_iris\n",
    "\n",
    "# Load iris dataset as an example\n",
    "iris = load_iris()\n",
    "X, y = iris.data, iris.target\n",
    "\n",
    "# Define hyperparameters to search\n",
    "param_grid = {\n",
    "    'n_estimators': [50, 100, 200],\n",
    "    'max_depth': [None, 10, 20],\n",
    "    'min_samples_split': [2, 5, 10]\n",
    "}\n",
    "\n",
    "# Create a Random Forest Classifier model\n",
    "model = RandomForestClassifier(random_state=42)\n",
    "\n",
    "# Applying Grid Search\n",
    "grid_search = GridSearchCV(estimator=model, param_grid=param_grid, cv=5)\n",
    "grid_search.fit(X, y)\n",
    "\n",
    "# Best hyperparameters\n",
    "best_params = grid_search.best_params_\n",
    "print(\"Best Hyperparameters:\", best_params)\n"
   ]
  },
  {
   "cell_type": "markdown",
   "id": "0f313945-1bdd-42cb-92fd-5c3f9bd7a94e",
   "metadata": {},
   "source": [
    "## 4.2 Randomized Search\n",
    "Randomized Search is a hyperparameter optimization technique that randomly samples hyperparameter combinations. It performs a fixed number of iterations and evaluates a random subset of the hyperparameter space."
   ]
  },
  {
   "cell_type": "code",
   "execution_count": 27,
   "id": "98fc8865-1281-46f8-aec4-55d3448e93bc",
   "metadata": {},
   "outputs": [
    {
     "name": "stdout",
     "output_type": "stream",
     "text": [
      "Best Hyperparameters: {'max_depth': 20, 'min_samples_split': 5, 'n_estimators': 142}\n"
     ]
    }
   ],
   "source": [
    "from sklearn.model_selection import RandomizedSearchCV\n",
    "from scipy.stats import randint\n",
    "from sklearn.ensemble import RandomForestClassifier\n",
    "from sklearn.datasets import load_iris\n",
    "\n",
    "# Load iris dataset as an example\n",
    "iris = load_iris()\n",
    "X, y = iris.data, iris.target\n",
    "\n",
    "# Define hyperparameters and their possible values using distributions\n",
    "param_dist = {\n",
    "    'n_estimators': randint(50, 200),\n",
    "    'max_depth': [None, 10, 20],\n",
    "    'min_samples_split': randint(2, 11)\n",
    "}\n",
    "\n",
    "# Create a Random Forest Classifier model\n",
    "model = RandomForestClassifier(random_state=42)\n",
    "\n",
    "# Applying Randomized Search\n",
    "random_search = RandomizedSearchCV(estimator=model, param_distributions=param_dist, n_iter=10, cv=5, random_state=42)\n",
    "random_search.fit(X, y)\n",
    "\n",
    "# Best hyperparameters\n",
    "best_params = random_search.best_params_\n",
    "print(\"Best Hyperparameters:\", best_params)\n"
   ]
  },
  {
   "cell_type": "markdown",
   "id": "42260f21-a8cd-408b-8c16-c53abf81c319",
   "metadata": {},
   "source": [
    "## 4.3 Bayesian Optimization\n",
    "Bayesian Optimization is a probabilistic model-based optimization technique that models the objective function and selects the next hyperparameters to evaluate based on the model's predictions."
   ]
  },
  {
   "cell_type": "code",
   "execution_count": null,
   "id": "79bf5fd1-5866-4070-b803-ecc879d347ac",
   "metadata": {},
   "outputs": [],
   "source": [
    "from skopt import BayesSearchCV\n",
    "from skopt.space import Real, Categorical, Integer\n",
    "from sklearn.ensemble import RandomForestClassifier\n",
    "from sklearn.datasets import load_iris\n",
    "\n",
    "# Load iris dataset as an example\n",
    "iris = load_iris()\n",
    "X, y = iris.data, iris.target\n",
    "\n",
    "# Define hyperparameters and their possible value ranges\n",
    "param_space = {\n",
    "    'n_estimators': Integer(50, 200),\n",
    "    'max_depth': Integer(1, 20),\n",
    "    'min_samples_split': Integer(2, 11)\n",
    "}\n",
    "\n",
    "# Create a Random Forest Classifier model\n",
    "model = RandomForestClassifier(random_state=42)\n",
    "\n",
    "# Applying Bayesian Optimization\n",
    "bayesian_search = BayesSearchCV(estimator=model, search_spaces=param_space, n_iter=10, cv=5, random_state=42)\n",
    "bayesian_search.fit(X, y)\n",
    "\n",
    "# Best hyperparameters\n",
    "best_params = bayesian_search.best_params_\n",
    "print(\"Best Hyperparameters:\", best_params)\n"
   ]
  },
  {
   "cell_type": "markdown",
   "id": "2542ef5b-8ddf-4673-a011-dbfa805fcc7f",
   "metadata": {},
   "source": [
    "In these examples:\n",
    "\n",
    "Grid Search exhaustively evaluates all combinations in the specified hyperparameter grid.\n",
    "\n",
    "    \n",
    "Randomized Search randomly selects combinations from specified distributions and evaluates a subset.\n",
    "\n",
    "\n",
    "Bayesian Optimization probabilistically models the objective function and selects combinations to evaluate, focusing on promising areas in the hyperparameter space.\n",
    "\n",
    "\n",
    "## 5.1 Clustering\n",
    "\n",
    "###  \n",
    "5.1.1 K-Means Clusterin\n",
    "\n",
    "\r\n",
    "K-Means Clustering is an unsupervised learning algorithm that partitions the dataset into K clusters, where each data point belongs to the cluster with the nearest mean."
   ]
  },
  {
   "cell_type": "code",
   "execution_count": 29,
   "id": "a44e9611-7c64-4c03-9dba-01d11127c768",
   "metadata": {},
   "outputs": [
    {
     "name": "stderr",
     "output_type": "stream",
     "text": [
      "C:\\Users\\irosh\\AppData\\Local\\Programs\\Python\\Python311\\Lib\\site-packages\\sklearn\\cluster\\_kmeans.py:1416: FutureWarning: The default value of `n_init` will change from 10 to 'auto' in 1.4. Set the value of `n_init` explicitly to suppress the warning\n",
      "  super()._check_params_vs_input(X, default_n_init=10)\n",
      "C:\\Users\\irosh\\AppData\\Local\\Programs\\Python\\Python311\\Lib\\site-packages\\sklearn\\cluster\\_kmeans.py:1416: FutureWarning: The default value of `n_init` will change from 10 to 'auto' in 1.4. Set the value of `n_init` explicitly to suppress the warning\n",
      "  super()._check_params_vs_input(X, default_n_init=10)\n",
      "C:\\Users\\irosh\\AppData\\Local\\Programs\\Python\\Python311\\Lib\\site-packages\\sklearn\\cluster\\_kmeans.py:1416: FutureWarning: The default value of `n_init` will change from 10 to 'auto' in 1.4. Set the value of `n_init` explicitly to suppress the warning\n",
      "  super()._check_params_vs_input(X, default_n_init=10)\n",
      "C:\\Users\\irosh\\AppData\\Local\\Programs\\Python\\Python311\\Lib\\site-packages\\sklearn\\cluster\\_kmeans.py:1416: FutureWarning: The default value of `n_init` will change from 10 to 'auto' in 1.4. Set the value of `n_init` explicitly to suppress the warning\n",
      "  super()._check_params_vs_input(X, default_n_init=10)\n",
      "C:\\Users\\irosh\\AppData\\Local\\Programs\\Python\\Python311\\Lib\\site-packages\\sklearn\\cluster\\_kmeans.py:1416: FutureWarning: The default value of `n_init` will change from 10 to 'auto' in 1.4. Set the value of `n_init` explicitly to suppress the warning\n",
      "  super()._check_params_vs_input(X, default_n_init=10)\n",
      "C:\\Users\\irosh\\AppData\\Local\\Programs\\Python\\Python311\\Lib\\site-packages\\sklearn\\cluster\\_kmeans.py:1416: FutureWarning: The default value of `n_init` will change from 10 to 'auto' in 1.4. Set the value of `n_init` explicitly to suppress the warning\n",
      "  super()._check_params_vs_input(X, default_n_init=10)\n",
      "C:\\Users\\irosh\\AppData\\Local\\Programs\\Python\\Python311\\Lib\\site-packages\\sklearn\\cluster\\_kmeans.py:1416: FutureWarning: The default value of `n_init` will change from 10 to 'auto' in 1.4. Set the value of `n_init` explicitly to suppress the warning\n",
      "  super()._check_params_vs_input(X, default_n_init=10)\n",
      "C:\\Users\\irosh\\AppData\\Local\\Programs\\Python\\Python311\\Lib\\site-packages\\sklearn\\cluster\\_kmeans.py:1416: FutureWarning: The default value of `n_init` will change from 10 to 'auto' in 1.4. Set the value of `n_init` explicitly to suppress the warning\n",
      "  super()._check_params_vs_input(X, default_n_init=10)\n",
      "C:\\Users\\irosh\\AppData\\Local\\Programs\\Python\\Python311\\Lib\\site-packages\\sklearn\\cluster\\_kmeans.py:1416: FutureWarning: The default value of `n_init` will change from 10 to 'auto' in 1.4. Set the value of `n_init` explicitly to suppress the warning\n",
      "  super()._check_params_vs_input(X, default_n_init=10)\n",
      "C:\\Users\\irosh\\AppData\\Local\\Programs\\Python\\Python311\\Lib\\site-packages\\sklearn\\cluster\\_kmeans.py:1416: FutureWarning: The default value of `n_init` will change from 10 to 'auto' in 1.4. Set the value of `n_init` explicitly to suppress the warning\n",
      "  super()._check_params_vs_input(X, default_n_init=10)\n"
     ]
    },
    {
     "data": {
      "image/png": "[encoded data removed]",
      "text/plain": [
       "<Figure size 800x600 with 1 Axes>"
      ]
     },
     "metadata": {},
     "output_type": "display_data"
    },
    {
     "name": "stdout",
     "output_type": "stream",
     "text": [
      "Cluster Labels: [1 1 1 1 1 1 1 1 1 1 1 1 1 1 1 1 1 1 1 1 1 1 1 1 1 1 1 1 1 1 1 1 1 1 1 1 1\n",
      " 1 1 1 1 1 1 1 1 1 1 1 1 1 0 0 2 0 0 0 0 0 0 0 0 0 0 0 0 0 0 0 0 0 0 0 0 0\n",
      " 0 0 0 2 0 0 0 0 0 0 0 0 0 0 0 0 0 0 0 0 0 0 0 0 0 0 2 0 2 2 2 2 0 2 2 2 2\n",
      " 2 2 0 0 2 2 2 2 0 2 0 2 0 2 2 0 0 2 2 2 2 2 0 2 2 2 2 0 2 2 2 0 2 2 2 0 2\n",
      " 2 0]\n"
     ]
    },
    {
     "name": "stderr",
     "output_type": "stream",
     "text": [
      "C:\\Users\\irosh\\AppData\\Local\\Programs\\Python\\Python311\\Lib\\site-packages\\sklearn\\cluster\\_kmeans.py:1416: FutureWarning: The default value of `n_init` will change from 10 to 'auto' in 1.4. Set the value of `n_init` explicitly to suppress the warning\n",
      "  super()._check_params_vs_input(X, default_n_init=10)\n"
     ]
    }
   ],
   "source": [
    "from sklearn.cluster import KMeans\n",
    "from sklearn.datasets import load_iris\n",
    "import matplotlib.pyplot as plt\n",
    "\n",
    "# Load iris dataset as an example\n",
    "iris = load_iris()\n",
    "X = iris.data\n",
    "\n",
    "# Choosing the number of clusters (K) using the Elbow Method\n",
    "inertia = []\n",
    "for i in range(1, 11):\n",
    "    kmeans = KMeans(n_clusters=i, random_state=42)\n",
    "    kmeans.fit(X)\n",
    "    inertia.append(kmeans.inertia_)\n",
    "\n",
    "# Plotting the Elbow Method graph\n",
    "plt.figure(figsize=(8, 6))\n",
    "plt.plot(range(1, 11), inertia, marker='o')\n",
    "plt.xlabel('Number of Clusters')\n",
    "plt.ylabel('Inertia')\n",
    "plt.title('Elbow Method')\n",
    "plt.show()\n",
    "\n",
    "# From the graph, choose the optimal number of clusters, e.g., K=3\n",
    "kmeans = KMeans(n_clusters=3, random_state=42)\n",
    "kmeans.fit(X)\n",
    "\n",
    "# Cluster labels for each data point\n",
    "labels = kmeans.labels_\n",
    "print(\"Cluster Labels:\", labels)\n"
   ]
  },
  {
   "cell_type": "markdown",
   "id": "9557059d-e69f-4f5b-b703-1062da35b555",
   "metadata": {},
   "source": [
    "### 5.1.2 Hierarchical Clustering\n",
    "Hierarchical Clustering builds a tree of clusters, known as a dendrogram. It doesn't require specifying the number of clusters beforehand."
   ]
  },
  {
   "cell_type": "code",
   "execution_count": 30,
   "id": "bd6f4914-5f2b-413f-b987-024e7afc2ae9",
   "metadata": {},
   "outputs": [
    {
     "data": {
      "image/png": "[encoded data removed]",
      "text/plain": [
       "<Figure size 1200x800 with 1 Axes>"
      ]
     },
     "metadata": {},
     "output_type": "display_data"
    }
   ],
   "source": [
    "from scipy.cluster.hierarchy import dendrogram, linkage\n",
    "import matplotlib.pyplot as plt\n",
    "from sklearn.datasets import load_iris\n",
    "\n",
    "# Load iris dataset as an example\n",
    "iris = load_iris()\n",
    "X = iris.data\n",
    "\n",
    "# Applying hierarchical clustering using complete linkage\n",
    "linked = linkage(X, 'complete')\n",
    "\n",
    "# Plotting the dendrogram\n",
    "plt.figure(figsize=(12, 8))\n",
    "dendrogram(linked, orientation='top', distance_sort='descending', show_leaf_counts=True)\n",
    "plt.xlabel('Sample Index')\n",
    "plt.ylabel('Distance')\n",
    "plt.title('Hierarchical Clustering Dendrogram')\n",
    "plt.show()\n"
   ]
  },
  {
   "cell_type": "markdown",
   "id": "d4f5e80e-b364-47c9-884c-107f6e98c327",
   "metadata": {},
   "source": [
    "## 5.2 Dimensionality Reduction\n",
    "### 5.2.1 Principal Component Analysis (PCA)\n",
    "Principal Component Analysis (PCA) reduces the dimensionality of the data by projecting it onto a lower-dimensional subspace, capturing the most important patterns of variation."
   ]
  },
  {
   "cell_type": "code",
   "execution_count": 31,
   "id": "731df758-3856-47dd-8735-20bbbad8f6c0",
   "metadata": {},
   "outputs": [
    {
     "data": {
      "image/png": "[encoded data removed]",
      "text/plain": [
       "<Figure size 800x600 with 1 Axes>"
      ]
     },
     "metadata": {},
     "output_type": "display_data"
    }
   ],
   "source": [
    "from sklearn.decomposition import PCA\n",
    "from sklearn.datasets import load_iris\n",
    "\n",
    "# Load iris dataset as an example\n",
    "iris = load_iris()\n",
    "X = iris.data\n",
    "\n",
    "# Applying PCA for dimensionality reduction\n",
    "pca = PCA(n_components=2)  # Reduce to 2 dimensions\n",
    "X_pca = pca.fit_transform(X)\n",
    "\n",
    "# Visualizing the reduced data\n",
    "plt.figure(figsize=(8, 6))\n",
    "plt.scatter(X_pca[:, 0], X_pca[:, 1], c=iris.target, cmap='viridis')\n",
    "plt.xlabel('Principal Component 1')\n",
    "plt.ylabel('Principal Component 2')\n",
    "plt.title('PCA Projection')\n",
    "plt.show()\n"
   ]
  },
  {
   "cell_type": "markdown",
   "id": "3d378403-7c26-4830-ad9c-f5503360011c",
   "metadata": {},
   "source": [
    "### 5.2.2 t-Distributed Stochastic Neighbor Embedding (t-SNE)\n",
    "\n",
    "t-Distributed Stochastic Neighbor Embedding (t-SNE) is a technique for dimensionality reduction that is particularly well-suited for visualization of high-dimensional datasets.\n",
    "\n"
   ]
  },
  {
   "cell_type": "code",
   "execution_count": 32,
   "id": "cbcdd000-4e69-4012-b04f-a4ce117f3de3",
   "metadata": {},
   "outputs": [
    {
     "data": {
      "image/png": "[encoded data removed]",
      "text/plain": [
       "<Figure size 800x600 with 1 Axes>"
      ]
     },
     "metadata": {},
     "output_type": "display_data"
    }
   ],
   "source": [
    "from sklearn.manifold import TSNE\n",
    "from sklearn.datasets import load_iris\n",
    "\n",
    "# Load iris dataset as an example\n",
    "iris = load_iris()\n",
    "X = iris.data\n",
    "\n",
    "# Applying t-SNE for dimensionality reduction\n",
    "tsne = TSNE(n_components=2, random_state=42)\n",
    "X_tsne = tsne.fit_transform(X)\n",
    "\n",
    "# Visualizing the reduced data\n",
    "plt.figure(figsize=(8, 6))\n",
    "plt.scatter(X_tsne[:, 0], X_tsne[:, 1], c=iris.target, cmap='viridis')\n",
    "plt.xlabel('t-SNE Component 1')\n",
    "plt.ylabel('t-SNE Component 2')\n",
    "plt.title('t-SNE Projection')\n",
    "plt.show()\n"
   ]
  },
  {
   "cell_type": "markdown",
   "id": "2eeb5c63-7d38-4cd4-b81b-09034ad002be",
   "metadata": {},
   "source": [
    "In these examples:\n",
    "\n",
    "\n",
    "K-Means Clustering divides the data into distinct clusters based on the mean values of the features.\n",
    "\n",
    "Hierarchical Clustering builds a tree of clusters, offering insight into the hierarchy of the data.\n",
    "\n",
    "PCA and t-SNE reduce the dimensionality of the data for visualization purposes, making it easier to explore the underlying patterns.\n",
    "\n",
    "\n",
    "\n"
   ]
  },
  {
   "cell_type": "markdown",
   "id": "d522ae97-b564-41af-9d69-f4d4f9997b07",
   "metadata": {},
   "source": [
    "## 6.1 Neural Networks with TensorFlow/Keras\n",
    "\n",
    "### 6.1.1 Building and Training Neural Networks\n",
    "\n",
    "Building and Training Neural Networks involve defining the architecture of the neural network, compiling it with an optimizer and loss function, and then training it on the data."
   ]
  },
  {
   "cell_type": "code",
   "execution_count": null,
   "id": "0d699392-7e3c-450c-bedf-cda44b05c21d",
   "metadata": {},
   "outputs": [],
   "source": [
    "import tensorflow as tf\n",
    "from tensorflow.keras.models import Sequential\n",
    "from tensorflow.keras.layers import Dense\n",
    "\n",
    "# Sample data (features and labels)\n",
    "X, y = ...\n",
    "\n",
    "# Build the neural network model\n",
    "model = Sequential([\n",
    "    Dense(64, activation='relu', input_shape=(X.shape[1],)),\n",
    "    Dense(32, activation='relu'),\n",
    "    Dense(1, activation='sigmoid')\n",
    "])\n",
    "\n",
    "# Compile the model\n",
    "model.compile(optimizer='adam', loss='binary_crossentropy', metrics=['accuracy'])\n",
    "\n",
    "# Train the model\n",
    "model.fit(X, y, epochs=10, batch_size=32, validation_split=0.2)\n"
   ]
  },
  {
   "cell_type": "markdown",
   "id": "4d2ef9c8-161d-4cfc-ba9a-22847b5c0d87",
   "metadata": {},
   "source": [
    "### 6.1.2 Convolutional Neural Networks (CNNs)\n",
    "Convolutional Neural Networks (CNNs) are used for image-related tasks and can capture spatial patterns in the data."
   ]
  },
  {
   "cell_type": "code",
   "execution_count": null,
   "id": "ece6630b-35c5-4201-9689-0e1ed9c90b6d",
   "metadata": {},
   "outputs": [],
   "source": [
    "from tensorflow.keras.layers import Conv2D, MaxPooling2D, Flatten\n",
    "\n",
    "# Sample image data (X: images, y: labels)\n",
    "X, y = ...\n",
    "\n",
    "# Build CNN model\n",
    "model = Sequential([\n",
    "    Conv2D(32, (3, 3), activation='relu', input_shape=(X.shape[1], X.shape[2], X.shape[3])),\n",
    "    MaxPooling2D((2, 2)),\n",
    "    Conv2D(64, (3, 3), activation='relu'),\n",
    "    MaxPooling2D((2, 2)),\n",
    "    Flatten(),\n",
    "    Dense(64, activation='relu'),\n",
    "    Dense(10, activation='softmax')\n",
    "])\n",
    "\n",
    "# Compile and train the CNN model (similar to the previous example)\n"
   ]
  },
  {
   "cell_type": "markdown",
   "id": "1683674a-e3d4-4855-8d54-cf4b27e7e7ff",
   "metadata": {},
   "source": [
    "### 6.1.3 Recurrent Neural Networks (RNNs)\n",
    "Recurrent Neural Networks (RNNs) are used for sequence-related tasks and can capture patterns in sequential data."
   ]
  },
  {
   "cell_type": "code",
   "execution_count": null,
   "id": "37dcef50-67be-40c4-940e-4c16a5dcf713",
   "metadata": {},
   "outputs": [],
   "source": [
    "from tensorflow.keras.layers import LSTM\n",
    "\n",
    "# Sample sequence data (X: sequences, y: labels)\n",
    "X, y = ...\n",
    "\n",
    "# Build RNN model\n",
    "model = Sequential([\n",
    "    LSTM(50, input_shape=(X.shape[1], X.shape[2])),\n",
    "    Dense(1, activation='sigmoid')\n",
    "])\n",
    "\n",
    "# Compile and train the RNN model (similar to the previous examples)\n"
   ]
  },
  {
   "cell_type": "markdown",
   "id": "8711f6c0-699a-4d2d-9bec-112b4450ba03",
   "metadata": {},
   "source": [
    "## 6.2 Transfer Learning\n",
    "\n",
    "### 6.2.1 Using Pre-trained Models\n",
    "\n",
    "Using Pre-trained Models involves leveraging models trained on large datasets and fine-tuning them for specific tasks."
   ]
  },
  {
   "cell_type": "code",
   "execution_count": null,
   "id": "0be819d9-667c-4ad0-b48d-f4cb5e444611",
   "metadata": {},
   "outputs": [],
   "source": [
    "from tensorflow.keras.applications import VGG16\n",
    "from tensorflow.keras.models import Model\n",
    "from tensorflow.keras.layers import Dense, GlobalAveragePooling2D\n",
    "\n",
    "# Load pre-trained VGG16 model without top classification layers\n",
    "base_model = VGG16(weights='imagenet', include_top=False)\n",
    "\n",
    "# Add custom classification layers\n",
    "x = base_model.output\n",
    "x = GlobalAveragePooling2D()(x)\n",
    "x = Dense(1024, activation='relu')(x)\n",
    "predictions = Dense(num_classes, activation='softmax')(x)\n",
    "\n",
    "# Create a new model with custom layers on top of the pre-trained model\n",
    "model = Model(inputs=base_model.input, outputs=predictions)\n",
    "\n",
    "# Compile and train the model (similar to previous examples)\n"
   ]
  },
  {
   "cell_type": "markdown",
   "id": "858a90b0-7866-4f06-b976-0527eb77d77f",
   "metadata": {},
   "source": [
    "### 6.2.2 Fine-tuning\n",
    "\n",
    "Fine-tuning involves training only specific layers of a pre-trained model, allowing these layers to adapt to a new dataset while keeping the pre-trained weights in the earlier layers fixed."
   ]
  },
  {
   "cell_type": "code",
   "execution_count": null,
   "id": "52242074-0725-4391-a53b-93b811630b90",
   "metadata": {},
   "outputs": [],
   "source": [
    "# Freeze all layers in the base model\n",
    "for layer in base_model.layers:\n",
    "    layer.trainable = False\n",
    "\n",
    "# Unfreeze specific layers for fine-tuning\n",
    "for layer in base_model.layers[-4:]:\n",
    "    layer.trainable = True\n",
    "\n",
    "# Compile and train the model (similar to previous examples)\n"
   ]
  },
  {
   "cell_type": "code",
   "execution_count": null,
   "id": "47d4f708-8f51-41f9-9591-72f80c67f047",
   "metadata": {},
   "outputs": [],
   "source": [
    "In these examples:\n",
    "\n",
    "Neural Networks are constructed and trained for various tasks, including generic classification, image-related tasks (using CNNs), and sequence-related tasks (using RNNs).\n",
    "\n",
    "Transfer Learning is demonstrated by using pre-trained models like VGG16, and fine-tuning is illustrated by selectively unfreezing and training specific layers. Fine-tuning allows the model to adapt to a specific task while leveraging the knowledge learned from a large and general dataset."
   ]
  }
 ],
 "metadata": {
  "kernelspec": {
   "display_name": "Python 3 (ipykernel)",
   "language": "python",
   "name": "python3"
  },
  "language_info": {
   "codemirror_mode": {
    "name": "ipython",
    "version": 3
   },
   "file_extension": ".py",
   "mimetype": "text/x-python",
   "name": "python",
   "nbconvert_exporter": "python",
   "pygments_lexer": "ipython3",
   "version": "3.11.5"
  }
 },
 "nbformat": 4,
 "nbformat_minor": 5
}
