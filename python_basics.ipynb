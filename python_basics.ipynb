{
 "cells": [
  {
   "cell_type": "markdown",
   "id": "122f0e05-0d05-4e0b-bd74-0819389dded6",
   "metadata": {},
   "source": [
    "# Python: A Brief Overview\n",
    "\r\n",
    "Python is a versatile and dynamic programming language renowned for its readability and flexibility. Its extensive standard library and diverse ecosystem of third-party packages make it a go-to language for various applications.\r\n",
    "\r\n",
    "1. Basic Syntax and Data Types\r\n",
    "Variables: Containers for storing data."
   ]
  },
  {
   "cell_type": "code",
   "execution_count": 1,
   "id": "811f6813-ae6d-43ca-9a54-0838f3c2960e",
   "metadata": {},
   "outputs": [],
   "source": [
    "name = \"Alice\"\n",
    "age = 30\n"
   ]
  },
  {
   "cell_type": "markdown",
   "id": "7c024ef6-249b-47fe-8c29-c67e31b7da71",
   "metadata": {},
   "source": [
    "Comments: Notes within the code to aid understanding.\r\n",
    "\r\n"
   ]
  },
  {
   "cell_type": "code",
   "execution_count": 2,
   "id": "64f9e8fe-f84a-4558-9145-cd407231aebe",
   "metadata": {},
   "outputs": [],
   "source": [
    "# This is a comment\n"
   ]
  },
  {
   "cell_type": "markdown",
   "id": "936e015c-becc-44d6-be67-2cf1927e5451",
   "metadata": {},
   "source": [
    "Data Types: Categories of data values.\n",
    "\n"
   ]
  },
  {
   "cell_type": "code",
   "execution_count": 3,
   "id": "1fdeeb55-1186-4cf6-9b34-f2faaf957dee",
   "metadata": {},
   "outputs": [],
   "source": [
    "# Numeric types\n",
    "num_int = 5\n",
    "num_float = 3.14\n",
    "\n",
    "# Text type\n",
    "text = \"Hello, World!\"\n",
    "\n",
    "# Boolean type\n",
    "is_student = True\n"
   ]
  },
  {
   "cell_type": "markdown",
   "id": "3e299bc9-1086-4cc5-9d58-cc66ab4401a1",
   "metadata": {},
   "source": [
    "Data Structures\n",
    "Python offers versatile data structures:\n",
    "\n",
    "Lists: Ordered, mutable collections."
   ]
  },
  {
   "cell_type": "code",
   "execution_count": 4,
   "id": "ef37d925-60f7-46e2-9973-06ca0cad85cb",
   "metadata": {},
   "outputs": [],
   "source": [
    "numbers = [1, 2, 3, 4, 5]\n"
   ]
  },
  {
   "cell_type": "markdown",
   "id": "ca536cd6-6d89-40ca-8a8a-b8ecde197c4b",
   "metadata": {},
   "source": [
    "Tuples: Ordered, immutable collections.\n",
    "\n"
   ]
  },
  {
   "cell_type": "code",
   "execution_count": 5,
   "id": "3ce53d28-963d-41ac-b02d-bdbe468cfc26",
   "metadata": {},
   "outputs": [],
   "source": [
    "coordinates = (10, 20)\n"
   ]
  },
  {
   "cell_type": "markdown",
   "id": "16cb921c-e424-4953-91a7-607758ce8b4d",
   "metadata": {},
   "source": [
    "Dictionaries: Key-value pairs, unordered.\n",
    "\n"
   ]
  },
  {
   "cell_type": "code",
   "execution_count": 6,
   "id": "114cad50-f46e-4df6-bac2-b2a5a1051e73",
   "metadata": {},
   "outputs": [],
   "source": [
    "student = {'name': 'Alice', 'age': 25, 'major': 'Computer Science'}\n"
   ]
  },
  {
   "cell_type": "markdown",
   "id": "03bbd56e-eba7-4b6d-b502-2ea4ca82837b",
   "metadata": {},
   "source": [
    "Sets: Unordered collections of unique items.\n",
    "\n"
   ]
  },
  {
   "cell_type": "code",
   "execution_count": 7,
   "id": "8da8c031-ed27-4bb0-926e-3c5c0e6d6a1f",
   "metadata": {},
   "outputs": [],
   "source": [
    "unique_numbers = {1, 2, 3, 4, 5}\n"
   ]
  },
  {
   "cell_type": "markdown",
   "id": "f3c2b192-d31b-4b14-8b5c-af901b26af73",
   "metadata": {},
   "source": [
    "3. Control Structures\r\n",
    "Control structures manage program flow:\r\n",
    "\r\n",
    "If-else Statements: Conditionally execute code."
   ]
  },
  {
   "cell_type": "code",
   "execution_count": 8,
   "id": "458ab1e7-6b63-4419-b6df-0a799bd1d406",
   "metadata": {},
   "outputs": [
    {
     "name": "stdout",
     "output_type": "stream",
     "text": [
      "You are an adult.\n"
     ]
    }
   ],
   "source": [
    "if age >= 18:\n",
    "    print(\"You are an adult.\")\n",
    "else:\n",
    "    print(\"You are a minor.\")\n"
   ]
  },
  {
   "cell_type": "markdown",
   "id": "739e9c1b-52f0-421d-b82f-1020d952c035",
   "metadata": {},
   "source": [
    "For Loops: Iterate over sequences.\n",
    "\n"
   ]
  },
  {
   "cell_type": "code",
   "execution_count": 9,
   "id": "f1332dc3-1fad-4dac-8910-f9ad83af4287",
   "metadata": {},
   "outputs": [
    {
     "name": "stdout",
     "output_type": "stream",
     "text": [
      "1\n",
      "2\n",
      "3\n",
      "4\n",
      "5\n"
     ]
    }
   ],
   "source": [
    "for number in numbers:\n",
    "    print(number)\n"
   ]
  },
  {
   "cell_type": "markdown",
   "id": "972de1d5-5b92-47d8-adad-ce877b56d441",
   "metadata": {},
   "source": [
    "While Loops: Execute while a condition is true.\r\n",
    "\r\n"
   ]
  },
  {
   "cell_type": "code",
   "execution_count": 10,
   "id": "c941b75f-dfb1-4c97-8a78-c7a3c80f94b7",
   "metadata": {},
   "outputs": [
    {
     "name": "stdout",
     "output_type": "stream",
     "text": [
      "Count: 0\n",
      "Count: 1\n",
      "Count: 2\n",
      "Count: 3\n",
      "Count: 4\n"
     ]
    }
   ],
   "source": [
    "count = 0\n",
    "while count < 5:\n",
    "    print(\"Count:\", count)\n",
    "    count += 1\n"
   ]
  },
  {
   "cell_type": "markdown",
   "id": "65735785-bf34-4ae9-8098-da342db5e079",
   "metadata": {},
   "source": [
    "4. Functions\r\n",
    "Functions group code for reuse:"
   ]
  },
  {
   "cell_type": "code",
   "execution_count": 11,
   "id": "6687d833-ee2c-499f-b55b-92c2bf31f85a",
   "metadata": {},
   "outputs": [
    {
     "name": "stdout",
     "output_type": "stream",
     "text": [
      "16\n"
     ]
    }
   ],
   "source": [
    "def square(x):\n",
    "    return x ** 2\n",
    "\n",
    "result = square(4)\n",
    "print(result)  # Output: 16\n"
   ]
  },
  {
   "cell_type": "markdown",
   "id": "b25b691d-92ba-45f9-82a4-da016f735d1a",
   "metadata": {},
   "source": [
    "5. Libraries for Data Science\n",
    "Python libraries enhance data science capabilities:\n",
    "\n",
    "NumPy: Numeric operations, arrays."
   ]
  },
  {
   "cell_type": "code",
   "execution_count": 12,
   "id": "05c88607-b914-46e7-9ac8-ca25b99c9557",
   "metadata": {},
   "outputs": [],
   "source": [
    "import numpy as np\n",
    "array = np.array([1, 2, 3, 4, 5])\n"
   ]
  },
  {
   "cell_type": "markdown",
   "id": "ab87129d-7bd0-4070-b19d-6dff48bda199",
   "metadata": {},
   "source": [
    "Pandas: Data manipulation with DataFrames.\r\n",
    "\r\n"
   ]
  },
  {
   "cell_type": "code",
   "execution_count": 13,
   "id": "4acb0ec3-8105-47cf-95b8-6c4a329386d7",
   "metadata": {},
   "outputs": [],
   "source": [
    "import pandas as pd\n",
    "data = {'Name': ['Alice', 'Bob'], 'Age': [25, 30]}\n",
    "df = pd.DataFrame(data)\n"
   ]
  },
  {
   "cell_type": "markdown",
   "id": "35a73273-029e-4094-bb15-ab24e1660f83",
   "metadata": {},
   "source": [
    "Matplotlib: Data visualization.\n",
    "\n"
   ]
  },
  {
   "cell_type": "code",
   "execution_count": 14,
   "id": "1d8940db-56b8-4f9d-aeda-df153aa98381",
   "metadata": {},
   "outputs": [
    {
     "data": {
      "image/png": "[encoded data removed]",
      "text/plain": [
       "<Figure size 640x480 with 1 Axes>"
      ]
     },
     "metadata": {},
     "output_type": "display_data"
    }
   ],
   "source": [
    "import matplotlib.pyplot as plt\n",
    "x = np.linspace(0, 10, 100)\n",
    "y = np.sin(x)\n",
    "plt.plot(x, y)\n",
    "plt.xlabel('x')\n",
    "plt.ylabel('sin(x)')\n",
    "plt.title('Sine Function')\n",
    "plt.show()\n"
   ]
  },
  {
   "cell_type": "markdown",
   "id": "64daa664-7433-4ecb-ba30-4148dec89cf6",
   "metadata": {},
   "source": [
    "Scikit-Learn: Machine learning tools.\n",
    "\n"
   ]
  },
  {
   "cell_type": "code",
   "execution_count": 15,
   "id": "30f7eef1-e675-43bb-8975-ab511b4678fa",
   "metadata": {},
   "outputs": [],
   "source": [
    "from sklearn.linear_model import LinearRegression\n",
    "model = LinearRegression()\n"
   ]
  },
  {
   "cell_type": "markdown",
   "id": "df79a4a2-edbd-4fae-a0d8-b6c84bf863f5",
   "metadata": {},
   "source": [
    "Requests: Interacting with web APIs.\n",
    "\n"
   ]
  },
  {
   "cell_type": "code",
   "execution_count": null,
   "id": "96a84a82-038b-4edb-a7e1-51067b7a492c",
   "metadata": {},
   "outputs": [],
   "source": [
    "import requests\n",
    "response = requests.get(\"https://api.example.com/data\")\n"
   ]
  },
  {
   "cell_type": "markdown",
   "id": "531583ac-7164-4366-8381-e1ffd1507fbe",
   "metadata": {},
   "source": [
    "Python's simplicity, readability, and extensive capabilities make it an ideal language for beginners and professionals alike, catering to various domains from web development to scientific computing.\n",
    "\n",
    "\n",
    "\n",
    "\n"
   ]
  },
  {
   "cell_type": "code",
   "execution_count": null,
   "id": "5da32c0f-0542-435c-9ec7-82795ca80e8b",
   "metadata": {},
   "outputs": [],
   "source": []
  }
 ],
 "metadata": {
  "kernelspec": {
   "display_name": "Python 3 (ipykernel)",
   "language": "python",
   "name": "python3"
  },
  "language_info": {
   "codemirror_mode": {
    "name": "ipython",
    "version": 3
   },
   "file_extension": ".py",
   "mimetype": "text/x-python",
   "name": "python",
   "nbconvert_exporter": "python",
   "pygments_lexer": "ipython3",
   "version": "3.10.8"
  }
 },
 "nbformat": 4,
 "nbformat_minor": 5
}
