{
 "cells": [
  {
   "cell_type": "markdown",
   "id": "b2c75815-d9c9-427f-a845-0018e6443ed2",
   "metadata": {},
   "source": [
    "## NUMPY"
   ]
  },
  {
   "cell_type": "markdown",
   "id": "c5e11d83-c7d0-47a1-9b57-db6f76116d7d",
   "metadata": {},
   "source": [
    "# 1. Introduction to Numpy \n",
    "\n",
    "NumPy is a library for the Python programming language, adding support for large, multi-dimensional arrays and matrices, along with a large collection of high-level mathematical functions to operate on these arrays.\n",
    "## Installation\r\n",
    "Before using NumPy, you need to install it. If you haven't installed it yet, you can do so via pip:\n"
   ]
  },
  {
   "cell_type": "code",
   "execution_count": 1,
   "id": "365dc7b8-fc71-4834-8c59-638d59142d90",
   "metadata": {},
   "outputs": [
    {
     "name": "stdout",
     "output_type": "stream",
     "text": [
      "Requirement already satisfied: numpy in c:\\users\\irosh\\appdata\\local\\programs\\python\\python311\\lib\\site-packages (1.26.0)\n"
     ]
    }
   ],
   "source": [
    "!pip install numpy\n"
   ]
  },
  {
   "cell_type": "code",
   "execution_count": 2,
   "id": "fa591a12-5d82-454c-9659-16502750d9c9",
   "metadata": {},
   "outputs": [],
   "source": [
    "# Importing NumPy\n",
    "\n",
    "import numpy as np\n",
    "\n"
   ]
  },
  {
   "cell_type": "markdown",
   "id": "d7b4629b-5211-4043-b26a-aaa7a73341c1",
   "metadata": {},
   "source": [
    "## NumPy Arrays\n"
   ]
  },
  {
   "cell_type": "code",
   "execution_count": 3,
   "id": "6439dced-926d-4102-9ead-04b914eabe9f",
   "metadata": {},
   "outputs": [],
   "source": [
    "# Creating NumPy Arrays\n",
    "\n",
    "\n",
    "# Creating a 1D array\n",
    "arr_1d = np.array([1, 2, 3, 4, 5])\n",
    "\n",
    "# Creating a 2D array\n",
    "arr_2d = np.array([[1, 2, 3], [4, 5, 6]])\n",
    "\n",
    "# Creating an array with a range of values\n",
    "arr_range = np.arange(0, 10, 2)  # Start from 0, end before 10, step by 2\n",
    "\n",
    "# Creating an array with evenly spaced values\n",
    "arr_linspace = np.linspace(0, 1, 5)  # 5 values between 0 and 1\n",
    "\n",
    "# Creating an array with random values\n",
    "arr_random = np.random.random((3, 3))  # 3x3 random values between 0 and 1\n"
   ]
  },
  {
   "cell_type": "code",
   "execution_count": 4,
   "id": "49cf815e-4c9c-4ed5-9df5-8bc781b2e070",
   "metadata": {},
   "outputs": [],
   "source": [
    "# Array Operations\n",
    "\n",
    "\n",
    "# Array addition, subtraction, multiplication, division\n",
    "result_addition = arr_1d + arr_1d\n",
    "result_subtraction = arr_1d - arr_1d\n",
    "result_multiplication = arr_1d * arr_1d\n",
    "result_division = arr_1d / arr_1d\n",
    "\n",
    "# Dot product of two arrays\n",
    "dot_product = np.dot(arr_1d, arr_1d)\n"
   ]
  },
  {
   "cell_type": "code",
   "execution_count": 5,
   "id": "efd92da4-4932-4d10-856e-14dfc3e3d568",
   "metadata": {},
   "outputs": [],
   "source": [
    "# Array Indexing and Slicing\n",
    "\n",
    "# Accessing elements\n",
    "element = arr_1d[0]  # Access the first element of the array\n",
    "\n",
    "# Slicing\n",
    "subset = arr_1d[1:4]  # Get elements from index 1 to 3\n",
    "\n",
    "# Boolean indexing\n",
    "bool_indexing = arr_1d[arr_1d > 2]\n"
   ]
  },
  {
   "cell_type": "code",
   "execution_count": 6,
   "id": "3a71347e-1e4f-44c1-90ee-1bd57d26099c",
   "metadata": {},
   "outputs": [],
   "source": [
    "# NumPy Functions\n",
    "# Mathematical Functions\n",
    "\n",
    "# Common mathematical functions\n",
    "mean_value = np.mean(arr_1d)\n",
    "max_value = np.max(arr_1d)\n",
    "min_value = np.min(arr_1d)\n",
    "\n",
    "# Trigonometric functions\n",
    "sin_values = np.sin(arr_1d)\n",
    "cos_values = np.cos(arr_1d)\n",
    "\n"
   ]
  },
  {
   "cell_type": "code",
   "execution_count": 7,
   "id": "6e2070da-29ff-4257-86a6-5641eace0f41",
   "metadata": {
    "collapsed": true,
    "jupyter": {
     "outputs_hidden": true
    }
   },
   "outputs": [
    {
     "ename": "ValueError",
     "evalue": "matmul: Input operand 1 has a mismatch in its core dimension 0, with gufunc signature (n?,k),(k,m?)->(n?,m?) (size 2 is different from 3)",
     "output_type": "error",
     "traceback": [
      "\u001b[1;31m---------------------------------------------------------------------------\u001b[0m",
      "\u001b[1;31mValueError\u001b[0m                                Traceback (most recent call last)",
      "Cell \u001b[1;32mIn[7], line 4\u001b[0m\n\u001b[0;32m      1\u001b[0m \u001b[38;5;66;03m# Linear Algebra Functions\u001b[39;00m\n\u001b[0;32m      2\u001b[0m \n\u001b[0;32m      3\u001b[0m \u001b[38;5;66;03m# Matrix multiplication\u001b[39;00m\n\u001b[1;32m----> 4\u001b[0m matrix_product \u001b[38;5;241m=\u001b[39m \u001b[43mnp\u001b[49m\u001b[38;5;241;43m.\u001b[39;49m\u001b[43mmatmul\u001b[49m\u001b[43m(\u001b[49m\u001b[43marr_2d\u001b[49m\u001b[43m,\u001b[49m\u001b[43m \u001b[49m\u001b[43marr_2d\u001b[49m\u001b[43m)\u001b[49m\n\u001b[0;32m      6\u001b[0m \u001b[38;5;66;03m# Eigenvalues and eigenvectors\u001b[39;00m\n\u001b[0;32m      7\u001b[0m eigenvalues, eigenvectors \u001b[38;5;241m=\u001b[39m np\u001b[38;5;241m.\u001b[39mlinalg\u001b[38;5;241m.\u001b[39meig(arr_2d)\n",
      "\u001b[1;31mValueError\u001b[0m: matmul: Input operand 1 has a mismatch in its core dimension 0, with gufunc signature (n?,k),(k,m?)->(n?,m?) (size 2 is different from 3)"
     ]
    }
   ],
   "source": [
    " # Linear Algebra Functions\n",
    "\n",
    "# Matrix multiplication\n",
    "matrix_product = np.matmul(arr_2d, arr_2d)\n",
    "\n",
    "# Eigenvalues and eigenvectors\n",
    "eigenvalues, eigenvectors = np.linalg.eig(arr_2d)\n"
   ]
  },
  {
   "cell_type": "markdown",
   "id": "cc399cd0-9d74-4f7c-8b02-e9262650e1cb",
   "metadata": {},
   "source": [
    "# Advanced NumPy\n",
    "## Broadcasting\n",
    "NumPy allows operations between arrays of different shapes and dimensions. Broadcasting automatically handles element-wise operations on arrays with different shapes."
   ]
  },
  {
   "cell_type": "code",
   "execution_count": 8,
   "id": "062189dc-da5b-471e-91c6-d73e98ed18c0",
   "metadata": {},
   "outputs": [],
   "source": [
    "# Broadcasting example\n",
    "arr = np.array([[1, 2, 3], [4, 5, 6]])\n",
    "scalar = 10\n",
    "result = arr + scalar  # Broadcasting scalar to each element of the array\n"
   ]
  },
  {
   "cell_type": "markdown",
   "id": "b02b870f-c806-4966-ba10-0fcd3041f139",
   "metadata": {},
   "source": [
    "## Advanced Indexing\n",
    "NumPy offers powerful indexing capabilities, including boolean indexing and integer array indexing."
   ]
  },
  {
   "cell_type": "code",
   "execution_count": 9,
   "id": "5bea93a7-1213-4af9-8658-e4b7aa515804",
   "metadata": {},
   "outputs": [],
   "source": [
    "# Boolean indexing\n",
    "arr = np.array([1, 2, 3, 4, 5])\n",
    "filtered_array = arr[arr > 2]\n",
    "\n",
    "# Integer array indexing\n",
    "indexes = np.array([1, 3, 4])\n",
    "selected_elements = arr[indexes]\n"
   ]
  },
  {
   "cell_type": "markdown",
   "id": "b5cb99c9-cb70-4314-950f-e53c40a2258b",
   "metadata": {},
   "source": [
    "## Universal Functions (ufunc)\n",
    "NumPy provides universal functions that perform element-wise operations on arrays. These functions are vectorized wrappers of simple functions."
   ]
  },
  {
   "cell_type": "code",
   "execution_count": 10,
   "id": "7c822a24-1826-4025-bc12-bce6d72ad5c5",
   "metadata": {},
   "outputs": [],
   "source": [
    "# Universal functions\n",
    "arr = np.array([1, 2, 3, 4, 5])\n",
    "square_root = np.sqrt(arr)\n",
    "exponential = np.exp(arr)\n"
   ]
  },
  {
   "cell_type": "markdown",
   "id": "5b5676b1-19ee-4584-a709-16186041387a",
   "metadata": {},
   "source": [
    "## NumPy Statistics\n",
    "NumPy can compute various statistics on arrays, such as mean, median, standard deviation, etc."
   ]
  },
  {
   "cell_type": "code",
   "execution_count": 11,
   "id": "9a8a2cf5-3886-466a-8af7-9585911a043e",
   "metadata": {},
   "outputs": [],
   "source": [
    "# Statistics\n",
    "arr = np.array([1, 2, 3, 4, 5])\n",
    "mean_value = np.mean(arr)\n",
    "median_value = np.median(arr)\n",
    "std_deviation = np.std(arr)\n"
   ]
  },
  {
   "cell_type": "markdown",
   "id": "49ad22ad-dc83-436e-bf7c-dda1ed41b7a5",
   "metadata": {},
   "source": [
    "## NumPy Random Module\n",
    "NumPy's random module provides functions to create random data arrays."
   ]
  },
  {
   "cell_type": "code",
   "execution_count": 12,
   "id": "730d3a74-5afd-42d8-8af9-aecbead78dcd",
   "metadata": {},
   "outputs": [],
   "source": [
    "# Random module\n",
    "random_integers = np.random.randint(1, 100, size=(3, 3))  # 3x3 random integers between 1 and 100\n",
    "random_uniform = np.random.uniform(0, 1, size=(2, 2))  # 2x2 random floats between 0 and 1\n"
   ]
  },
  {
   "cell_type": "markdown",
   "id": "5d9acbcb-b2ce-46d6-9075-6bc2a4267e3e",
   "metadata": {},
   "source": [
    "## Linear Algebra with NumPy\n",
    "NumPy provides advanced linear algebra operations."
   ]
  },
  {
   "cell_type": "code",
   "execution_count": 13,
   "id": "1a396f3b-6292-46d7-9b2f-76b4be25af9e",
   "metadata": {},
   "outputs": [],
   "source": [
    "# Linear Algebra\n",
    "matrix = np.array([[1, 2], [3, 4]])\n",
    "inverse_matrix = np.linalg.inv(matrix)  # Inverse of the matrix\n",
    "determinant = np.linalg.det(matrix)  # Determinant of the matrix\n"
   ]
  },
  {
   "cell_type": "markdown",
   "id": "cda39432-77af-445a-99c1-2563bbd3cc04",
   "metadata": {},
   "source": [
    "## Fourier Transform\n",
    "NumPy can perform Fourier transforms for signal processing applications."
   ]
  },
  {
   "cell_type": "code",
   "execution_count": 14,
   "id": "aacd883f-e941-4632-8db8-ccc879fbc100",
   "metadata": {},
   "outputs": [],
   "source": [
    "# Fourier Transform\n",
    "signal = np.array([1, 2, 1, -1, 1, 2, 1, -1])\n",
    "fourier_transform = np.fft.fft(signal)\n"
   ]
  },
  {
   "cell_type": "markdown",
   "id": "b2a7d6d9-fb49-4870-b037-5907446b6aea",
   "metadata": {},
   "source": [
    "## Memory Layout\n",
    "NumPy allows you to control how data is stored in memory, which can significantly impact performance, especially for large datasets."
   ]
  },
  {
   "cell_type": "markdown",
   "id": "4990eaaf-a635-4269-bb2c-21dd13e6e224",
   "metadata": {},
   "source": []
  },
  {
   "cell_type": "code",
   "execution_count": 16,
   "id": "daec298e-4ed4-4c60-bb70-09a6e96c009f",
   "metadata": {},
   "outputs": [],
   "source": [
    "# Memory Layout\n",
    "arr = np.array([[1, 2, 3], [4, 5, 6]], order='F')  # Column-major (Fortran-style) order\n"
   ]
  },
  {
   "cell_type": "markdown",
   "id": "5c38e5da-c869-4546-aff8-a68247862652",
   "metadata": {},
   "source": [
    "## Structured Arrays\n",
    "Structured arrays allow you to define complex data types, similar to a database record or a C struct."
   ]
  },
  {
   "cell_type": "code",
   "execution_count": 17,
   "id": "75943843-1913-4da1-9a1d-d33efea5e08b",
   "metadata": {},
   "outputs": [],
   "source": [
    "# Structured Arrays\n",
    "dt = np.dtype([('name', np.unicode_, 16), ('grades', np.float64, (2,))])\n",
    "students = np.array([('Alice', (8.0, 7.5)), ('Bob', (6.0, 7.0))], dtype=dt)\n"
   ]
  },
  {
   "cell_type": "markdown",
   "id": "f597384b-3bb4-4220-9fb0-3c75600061dc",
   "metadata": {},
   "source": [
    "## Vectorization\n",
    "Vectorization is a powerful technique in NumPy where operations are performed on entire arrays, eliminating the need for explicit looping."
   ]
  },
  {
   "cell_type": "code",
   "execution_count": 18,
   "id": "4b3a39a5-4942-4125-87a4-c09d7e920524",
   "metadata": {},
   "outputs": [],
   "source": [
    "# Vectorization\n",
    "arr = np.array([1, 2, 3, 4, 5])\n",
    "result = np.sin(arr)  # Applying sine function to all elements in the array\n"
   ]
  },
  {
   "cell_type": "markdown",
   "id": "0de5ad1e-21c9-47d1-916c-f72ba125a896",
   "metadata": {},
   "source": [
    "## Parallel Processing with NumPy\n",
    "NumPy operations can be parallelized using libraries like Dask or NumExpr for faster computation.\n",
    "\n"
   ]
  },
  {
   "cell_type": "code",
   "execution_count": 19,
   "id": "8aff00cd-9251-42bf-a5d9-ebabfb46f96a",
   "metadata": {
    "collapsed": true,
    "jupyter": {
     "outputs_hidden": true
    }
   },
   "outputs": [
    {
     "ename": "ModuleNotFoundError",
     "evalue": "No module named 'numexpr'",
     "output_type": "error",
     "traceback": [
      "\u001b[1;31m---------------------------------------------------------------------------\u001b[0m",
      "\u001b[1;31mModuleNotFoundError\u001b[0m                       Traceback (most recent call last)",
      "Cell \u001b[1;32mIn[19], line 1\u001b[0m\n\u001b[1;32m----> 1\u001b[0m \u001b[38;5;28;01mimport\u001b[39;00m \u001b[38;5;21;01mnumexpr\u001b[39;00m \u001b[38;5;28;01mas\u001b[39;00m \u001b[38;5;21;01mne\u001b[39;00m\n\u001b[0;32m      3\u001b[0m \u001b[38;5;66;03m# Parallel processing with NumExpr\u001b[39;00m\n\u001b[0;32m      4\u001b[0m result \u001b[38;5;241m=\u001b[39m ne\u001b[38;5;241m.\u001b[39mevaluate(\u001b[38;5;124m\"\u001b[39m\u001b[38;5;124marr1 + arr2\u001b[39m\u001b[38;5;124m\"\u001b[39m)\n",
      "\u001b[1;31mModuleNotFoundError\u001b[0m: No module named 'numexpr'"
     ]
    }
   ],
   "source": [
    "import numexpr as ne\n",
    "\n",
    "# Parallel processing with NumExpr\n",
    "result = ne.evaluate(\"arr1 + arr2\")\n"
   ]
  },
  {
   "cell_type": "markdown",
   "id": "e6e0fe85-b1a6-4990-ad05-2b22e537454b",
   "metadata": {},
   "source": [
    "**Summary:**\n",
    "\n",
    "NumPy stands as the foundation of numerical and scientific computing in Python, empowering developers with an extensive array of tools and capabilities. This library provides a flexible, efficient, and intuitive framework for handling large datasets, performing complex mathematical operations, and facilitating advanced computations. From its fundamental array object to advanced features like broadcasting, memory layout control, and parallel processing integration, NumPy simplifies intricate tasks while optimizing performance.\n",
    "\n",
    "With NumPy, users can create multi-dimensional arrays, apply a wide array of mathematical functions, conduct advanced indexing, and seamlessly integrate with other libraries like Pandas. Its ability to handle structured data, parallelize computations, and efficiently read/write data files makes it an indispensable tool for data scientists, engineers, and researchers.\n",
    "\n",
    "In essence, NumPy's versatility and speed make it an essential component in the Python ecosystem, enabling innovation and breakthroughs in fields ranging from machine learning and data analysis to physics and engineering. Mastering NumPy equips professionals with the power to solve complex problems, analyze vast datasets, and develop sophisticated applications, making it an invaluable asset for any Python programmer."
   ]
  },
  {
   "cell_type": "code",
   "execution_count": null,
   "id": "8bebd978-73bf-42b1-8218-14d66a860fb9",
   "metadata": {},
   "outputs": [],
   "source": []
  }
 ],
 "metadata": {
  "kernelspec": {
   "display_name": "Python 3 (ipykernel)",
   "language": "python",
   "name": "python3"
  },
  "language_info": {
   "codemirror_mode": {
    "name": "ipython",
    "version": 3
   },
   "file_extension": ".py",
   "mimetype": "text/x-python",
   "name": "python",
   "nbconvert_exporter": "python",
   "pygments_lexer": "ipython3",
   "version": "3.11.5"
  }
 },
 "nbformat": 4,
 "nbformat_minor": 5
}
