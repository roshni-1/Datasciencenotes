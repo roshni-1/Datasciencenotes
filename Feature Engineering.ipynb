{
 "cells": [
  {
   "cell_type": "markdown",
   "id": "fbfd5bbc-51fa-46a3-b3e6-92498a6f8591",
   "metadata": {},
   "source": [
    "# Feature Engineering\n",
    "\n",
    "\n",
    "What is Feature Engineering?\r\n",
    "Feature engineering involves transforming raw data into a format that can better represent the underlying patterns in the data. It often requires domain knowledge and creativity to identify meaningful features that can enhance the predictive power of a model.\r\n",
    "\r\n",
    "Why is Feature Engineering Important?\r\n",
    "\r\n",
    "Raw data might not have features in the right format or scale for machine learning algorithms.\r\n",
    "Feature engineering can help models capture complex relationships, improve accuracy, and reduce overfitting.\r\n",
    "It allows the model to focus on relevant information, leading to better generalization.\r\n",
    "Techniques in Feature Engineering:\r\n",
    "\r\n",
    "Feature Creation:\r\n",
    "\r\n",
    "Create new features based on domain knowledge.\r\n",
    "Example: Extracting the month or day of the week from a timestamp.\r\n",
    "Binning or Bucketing:\r\n",
    "\r\n",
    "Group continuous values into bins to turn numerical data into categorical features.\r\n",
    "Example: Converting age into age groups (0-18, 19-35, etc.).\r\n",
    "One-Hot Encoding:\r\n",
    "\r\n",
    "Convert categorical variables into binary values (0 or 1) for each category.\r\n",
    "Example: Encoding \"gender\" as two binary variables: is_male and is_female.\r\n",
    "Encoding Ordinal Variables:\r\n",
    "\r\n",
    "Convert ordinal variables (categories with an inherent order) into numerical values.\r\n",
    "Example: Converting \"education level\" from categorical to numerical values.\r\n",
    "Text and NLP Features:\r\n",
    "\r\n",
    "Extract features from text data, such as word frequency, TF-IDF, or sentiment scores.\r\n",
    "Example: Extracting keywords from product reviews.\r\n",
    "Aggregation and Grouping:\r\n",
    "\r\n",
    "Create features by aggregating data across groups.\r\n",
    "Example: Calculating average purchase amount for each customer.\r\n",
    "Interaction Features:\r\n",
    "\r\n",
    "Combine two or more features to create new interactions.\r\n",
    "Example: Multiplying \"number of products purchased\" and \"average product price.\"\r\n",
    "Polynomial Features:\r\n",
    "\r\n",
    "Generate higher-order features by raising existing features to a power.\r\n",
    "Example: Adding squared or cubed versions of a numerical feature.\r\n",
    "Time-Based Features:\r\n",
    "\r\n",
    "Extract features like day of the week, hour of the day, or time since a specific event.\r\n",
    "Example: Calculating days until the next holiday.\r\n",
    "Feature Engineering Process:\r\n",
    "\r\n",
    "Data Understanding:\r\n",
    "\r\n",
    "Understand the data, its context, and domain-specific knowledge.\r\n",
    "Feature Generation:\r\n",
    "\r\n",
    "Brainstorm and create new features based on domain knowledge and intuition.\r\n",
    "Feature Selection:\r\n",
    "\r\n",
    "Evaluate the importance of each feature and select the most relevant ones.\r\n",
    "Feature Transformation:\r\n",
    "\r\n",
    "Apply scaling, normalization, or log transformation to ensure features are on a similar scale.\r\n",
    "Model Building and Validation:\r\n",
    "\r\n",
    "Train models using the engineered features and validate their performance.\r\n",
    "Benefits of Effective Feature Engineering:\r\n",
    "\r\n",
    "Enhanced model performance and accuracy.\r\n",
    "Improved generalization to unseen data.\r\n",
    "Reduction of data dimensionality and noise.\r\n",
    "Remember that feature engineering is an iterative process that requires experimentation and a deep understanding of the data and the problem you're trying to solve. It's a crucial step to unlock the full potential of machine learning algorithms and make them more effective in making predictions or classifications."
   ]
  },
  {
   "cell_type": "markdown",
   "id": "fde7f4e5-7c8d-4dc1-a2ec-2f918d964c6c",
   "metadata": {},
   "source": [
    "1. Feature Creation:\n",
    "Create new features based on domain knowledge or insights. For example, extracting the day of the week from a date could be valuable in understanding weekly patterns."
   ]
  },
  {
   "cell_type": "code",
   "execution_count": 1,
   "id": "c5a3f05e-17a3-4469-a658-2cb0c17af0e8",
   "metadata": {},
   "outputs": [
    {
     "name": "stdout",
     "output_type": "stream",
     "text": [
      "    timestamp day_of_week\n",
      "0  2023-08-01     Tuesday\n",
      "1  2023-08-02   Wednesday\n",
      "2  2023-08-03    Thursday\n"
     ]
    }
   ],
   "source": [
    "import pandas as pd\n",
    "\n",
    "data = pd.DataFrame({'timestamp': ['2023-08-01', '2023-08-02', '2023-08-03']})\n",
    "data['day_of_week'] = pd.to_datetime(data['timestamp']).dt.day_name()\n",
    "print(data)\n"
   ]
  },
  {
   "cell_type": "markdown",
   "id": "27446c18-6aa2-462b-9f48-7cb4cbbdef72",
   "metadata": {},
   "source": [
    "2. Binning or Bucketing:\n",
    "Group continuous values into bins to convert numerical data into categorical features. Useful for creating more interpretable features."
   ]
  },
  {
   "cell_type": "code",
   "execution_count": 2,
   "id": "c9ca1129-84a6-4944-a938-dbf52440476b",
   "metadata": {},
   "outputs": [
    {
     "name": "stdout",
     "output_type": "stream",
     "text": [
      "   age age_group\n",
      "0   25     young\n",
      "1   32   mid-age\n",
      "2   47     prime\n",
      "3   55    senior\n",
      "4   60    senior\n"
     ]
    }
   ],
   "source": [
    "data = pd.DataFrame({'age': [25, 32, 47, 55, 60]})\n",
    "bins = [0, 30, 40, 50, 100]\n",
    "labels = ['young', 'mid-age', 'prime', 'senior']\n",
    "data['age_group'] = pd.cut(data['age'], bins=bins, labels=labels)\n",
    "print(data)\n"
   ]
  },
  {
   "cell_type": "markdown",
   "id": "a74c7ed5-e09a-45e0-858e-30d29f51ad6a",
   "metadata": {},
   "source": [
    "3. One-Hot Encoding:\n",
    "Convert categorical variables into binary (0 or 1) columns for each category. Useful for algorithms that require numerical input."
   ]
  },
  {
   "cell_type": "code",
   "execution_count": 3,
   "id": "201c0496-9b44-4cfe-934d-28b16724017d",
   "metadata": {},
   "outputs": [
    {
     "name": "stdout",
     "output_type": "stream",
     "text": [
      "   is_female  is_male  is_non-binary\n",
      "0      False     True          False\n",
      "1       True    False          False\n",
      "2      False     True          False\n",
      "3      False    False           True\n"
     ]
    }
   ],
   "source": [
    "data = pd.DataFrame({'gender': ['male', 'female', 'male', 'non-binary']})\n",
    "encoded_data = pd.get_dummies(data, columns=['gender'], prefix=['is'])\n",
    "print(encoded_data)\n"
   ]
  },
  {
   "cell_type": "markdown",
   "id": "d359de55-5af2-4eda-8ed1-db53ac891b11",
   "metadata": {},
   "source": [
    "4. Encoding Ordinal Variables:\n",
    "Convert ordinal categorical variables into numerical values that maintain the order."
   ]
  },
  {
   "cell_type": "code",
   "execution_count": 4,
   "id": "6160174c-45f5-496d-be5f-018e581341f7",
   "metadata": {},
   "outputs": [
    {
     "name": "stdout",
     "output_type": "stream",
     "text": [
      "  education_level  education_level_encoded\n",
      "0     high school                        1\n",
      "1         college                        2\n",
      "2          master                        3\n",
      "3     high school                        1\n"
     ]
    }
   ],
   "source": [
    "data = pd.DataFrame({'education_level': ['high school', 'college', 'master', 'high school']})\n",
    "education_mapping = {'high school': 1, 'college': 2, 'master': 3}\n",
    "data['education_level_encoded'] = data['education_level'].map(education_mapping)\n",
    "print(data)\n"
   ]
  },
  {
   "cell_type": "markdown",
   "id": "d0f29750-1a55-441a-969c-a14360f56e00",
   "metadata": {},
   "source": [
    "5. Text and NLP Features:\n",
    "Extract features from text data, like word frequency, TF-IDF (Term Frequency-Inverse Document Frequency), or sentiment scores."
   ]
  },
  {
   "cell_type": "code",
   "execution_count": 5,
   "id": "a5260d1d-22bb-468f-a302-c83433178929",
   "metadata": {},
   "outputs": [
    {
     "name": "stdout",
     "output_type": "stream",
     "text": [
      "[[0 0 1 0 1 0 0 0]\n",
      " [1 0 0 0 0 1 0 1]\n",
      " [0 1 0 1 0 0 1 0]]\n"
     ]
    }
   ],
   "source": [
    "from sklearn.feature_extraction.text import CountVectorizer\n",
    "\n",
    "data = pd.DataFrame({'text': ['great product', 'disappointed with service', 'loved the experience']})\n",
    "vectorizer = CountVectorizer()\n",
    "text_features = vectorizer.fit_transform(data['text'])\n",
    "print(text_features.toarray())\n"
   ]
  },
  {
   "cell_type": "markdown",
   "id": "9838893e-7e47-42d7-ac4d-78ee7d19379b",
   "metadata": {},
   "source": [
    "6. Aggregation and Grouping:\n",
    "Create features by aggregating data across groups. Useful for creating summary statistics for each group."
   ]
  },
  {
   "cell_type": "code",
   "execution_count": 6,
   "id": "b222cd2c-2f4c-438c-8b2d-afe36f9f15bb",
   "metadata": {},
   "outputs": [
    {
     "name": "stdout",
     "output_type": "stream",
     "text": [
      "   customer_id  mean  sum\n",
      "0            1  75.0  150\n",
      "1            2  67.5  135\n"
     ]
    }
   ],
   "source": [
    "data = pd.DataFrame({'customer_id': [1, 2, 1, 2], 'purchase_amount': [50, 75, 100, 60]})\n",
    "agg_data = data.groupby('customer_id')['purchase_amount'].agg(['mean', 'sum']).reset_index()\n",
    "print(agg_data)\n"
   ]
  },
  {
   "cell_type": "markdown",
   "id": "323ff687-b534-49a0-8a63-f89cfd9a2a4f",
   "metadata": {},
   "source": [
    "7. Interaction Features:\n",
    "Create new features by combining existing features, like multiplying two numerical features to capture interactions."
   ]
  },
  {
   "cell_type": "code",
   "execution_count": 7,
   "id": "65012d6e-57db-4319-bb0a-57298bb66f59",
   "metadata": {},
   "outputs": [
    {
     "name": "stdout",
     "output_type": "stream",
     "text": [
      "   height  weight        bmi\n",
      "0     165      55  20.202020\n",
      "1     175      70  22.857143\n",
      "2     160      50  19.531250\n"
     ]
    }
   ],
   "source": [
    "data = pd.DataFrame({'height': [165, 175, 160], 'weight': [55, 70, 50]})\n",
    "data['bmi'] = data['weight'] / (data['height'] / 100) ** 2\n",
    "print(data)\n"
   ]
  },
  {
   "cell_type": "markdown",
   "id": "ef3958d7-89fa-4823-979f-eb05c764d0ac",
   "metadata": {},
   "source": [
    "8. Polynomial Features:\n",
    "Generate higher-order features by raising existing features to a power. Useful for capturing nonlinear relationships."
   ]
  },
  {
   "cell_type": "code",
   "execution_count": 8,
   "id": "ecb06ea1-f5fe-49cb-925b-f92e079ec19f",
   "metadata": {},
   "outputs": [
    {
     "name": "stdout",
     "output_type": "stream",
     "text": [
      "[[ 1.  2.  4.]\n",
      " [ 1.  3.  9.]\n",
      " [ 1.  4. 16.]]\n"
     ]
    }
   ],
   "source": [
    "from sklearn.preprocessing import PolynomialFeatures\n",
    "\n",
    "data = pd.DataFrame({'x': [2, 3, 4]})\n",
    "poly = PolynomialFeatures(degree=2)\n",
    "poly_features = poly.fit_transform(data)\n",
    "print(poly_features)\n"
   ]
  },
  {
   "cell_type": "markdown",
   "id": "4f2879b4-4a7e-4565-8259-e697a90039ec",
   "metadata": {},
   "source": [
    "9. Time-Based Features:\n",
    "Extract features like day of the week, hour of the day, or time since a specific event."
   ]
  },
  {
   "cell_type": "code",
   "execution_count": 9,
   "id": "f28229e2-41ff-4aa8-ad0d-856b880a5cd4",
   "metadata": {},
   "outputs": [
    {
     "name": "stdout",
     "output_type": "stream",
     "text": [
      "             timestamp  hour\n",
      "0  2023-08-01 08:00:00     8\n",
      "1  2023-08-01 14:30:00    14\n"
     ]
    }
   ],
   "source": [
    "data = pd.DataFrame({'timestamp': ['2023-08-01 08:00:00', '2023-08-01 14:30:00']})\n",
    "data['hour'] = pd.to_datetime(data['timestamp']).dt.hour\n",
    "print(data)\n"
   ]
  },
  {
   "cell_type": "markdown",
   "id": "d24eadcc-01d8-4aaa-b651-781b6cf5315a",
   "metadata": {},
   "source": [
    "These examples showcase various feature engineering techniques that can enhance the quality and predictive power of your data for machine learning tasks. Remember that the choice of technique depends on the nature of your data, the problem you're solving, and your domain expertise."
   ]
  },
  {
   "cell_type": "code",
   "execution_count": null,
   "id": "a363346c-bdc6-4add-98c3-aebb48168c62",
   "metadata": {},
   "outputs": [],
   "source": []
  }
 ],
 "metadata": {
  "kernelspec": {
   "display_name": "Python 3 (ipykernel)",
   "language": "python",
   "name": "python3"
  },
  "language_info": {
   "codemirror_mode": {
    "name": "ipython",
    "version": 3
   },
   "file_extension": ".py",
   "mimetype": "text/x-python",
   "name": "python",
   "nbconvert_exporter": "python",
   "pygments_lexer": "ipython3",
   "version": "3.10.8"
  }
 },
 "nbformat": 4,
 "nbformat_minor": 5
}
