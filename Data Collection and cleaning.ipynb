{
 "cells": [
  {
   "cell_type": "markdown",
   "id": "99550f44-b600-4f89-83b9-3de3171fd29c",
   "metadata": {},
   "source": [
    "# Module: Data Collection and Cleaning\r\n",
    "\n",
    "\n",
    "Data is the foundation of any data science project. This module focuses on acquiring data from various sources and preparing it for analysis. High-quality, clean data is essential for accurate insights and reliable models\n",
    "## Submodule 1: Types of Data\r\n",
    "Structured data is organized into well-defined rows and columns, like a spreadsheet. Unstructured data lacks a specific structure and can include text, images, audio, and video\n",
    "\r",
    "## \n",
    "\r\n",
    "Submodule 2: Data Sources and Collection Methods\r\n",
    "Data can be collected from various sources, such as APIs, web scraping, and databases. For example, let's consider collecting data from a public API:.\r\n",
    "\r\n"
   ]
  },
  {
   "cell_type": "code",
   "execution_count": null,
   "id": "40e23890-a4eb-4831-ac00-e52232ce8e05",
   "metadata": {},
   "outputs": [],
   "source": [
    "import requests\n",
    "\n",
    "# API endpoint\n",
    "url = \"https://api.openweathermap.org/data/2.5/weather\"\n",
    "params = {\"q\": \"New York\", \"appid\": \"your_api_key\"}\n",
    "\n",
    "# Send GET request to the API\n",
    "response = requests.get(url, params=params)\n",
    "data = response.json()\n",
    "\n",
    "print(data)\n"
   ]
  },
  {
   "cell_type": "markdown",
   "id": "81c44df5-4c6b-490a-835d-ef118d6cad44",
   "metadata": {},
   "source": [
    "Submodule 3: Data Acquisition and Import\r\n",
    "Importing data into your analysis environment is crucial. Libraries like Pandas make this process easier. Let's import data from a CSV file:"
   ]
  },
  {
   "cell_type": "code",
   "execution_count": null,
   "id": "8ed2fb1e-9dad-415f-9879-4e494d3e8f29",
   "metadata": {},
   "outputs": [],
   "source": [
    "import pandas as pd\n",
    "\n",
    "# Read CSV file\n",
    "data = pd.read_csv(\"data.csv\")\n",
    "\n",
    "# Display the first few rows\n",
    "print(data.head())\n"
   ]
  },
  {
   "cell_type": "markdown",
   "id": "23ea109d-8033-4c9a-a379-3738641b4a1a",
   "metadata": {},
   "source": [
    "Submodule 4: Data Cleaning and Preprocessing\n",
    "Clean data by handling missing values, outliers, and duplicates. Let's clean missing values from a Pandas DataFrame:\n",
    "\n",
    "Example: Handling Missing Values"
   ]
  },
  {
   "cell_type": "code",
   "execution_count": null,
   "id": "6aea3e2b-0716-450a-ad40-660be0efb3ee",
   "metadata": {},
   "outputs": [],
   "source": [
    "# Replace missing values with the mean\n",
    "data[\"age\"].fillna(data[\"age\"].mean(), inplace=True)\n"
   ]
  },
  {
   "cell_type": "markdown",
   "id": "b7e37bcf-e7b6-4796-b8b4-f35831602e50",
   "metadata": {},
   "source": [
    "Submodule 5: Data Transformation and Feature Engineering\n",
    "Transform data for analysis. Feature engineering involves creating new features from existing ones. Let's create a new feature based on existing ones:\n",
    "\n",
    "Example: Feature Engineering"
   ]
  },
  {
   "cell_type": "code",
   "execution_count": null,
   "id": "cb800261-b065-46fd-9f48-ae021aee00cb",
   "metadata": {},
   "outputs": [],
   "source": [
    "# Create a new feature 'total_sales'\n",
    "data[\"total_sales\"] = data[\"product_price\"] * data[\"quantity_sold\"]\n"
   ]
  },
  {
   "cell_type": "markdown",
   "id": "1aa4eab4-7e43-4df1-933e-df89c1f048e3",
   "metadata": {},
   "source": [
    "Submodule 6: Dealing with Messy Data\n",
    "Address inconsistencies and errors in data using regular expressions. Let's clean a column containing phone numbers:\n",
    "\n",
    "Example: Cleaning Phone Numbers"
   ]
  },
  {
   "cell_type": "code",
   "execution_count": null,
   "id": "ddde0377-03b5-4fe3-a593-d31e0e06ae87",
   "metadata": {},
   "outputs": [],
   "source": [
    "import re\n",
    "\n",
    "def clean_phone_number(phone):\n",
    "    cleaned_phone = re.sub(r\"[^0-9]\", \"\", phone)\n",
    "    return cleaned_phone\n",
    "\n",
    "data[\"phone_number\"] = data[\"phone_number\"].apply(clean_phone_number)\n"
   ]
  },
  {
   "cell_type": "markdown",
   "id": "d02b1b62-ced3-4477-8df8-6af7270c0dea",
   "metadata": {},
   "source": [
    "Submodule 7: Data Quality Assurance\n",
    "Implement validation checks to ensure data quality. Let's validate email addresses:\n",
    "\n",
    "Example: Validating Email Addresses"
   ]
  },
  {
   "cell_type": "code",
   "execution_count": null,
   "id": "c5b969cd-6c1f-40da-a0d3-fbc40b1bc01d",
   "metadata": {},
   "outputs": [],
   "source": [
    "import re\n",
    "\n",
    "def is_valid_email(email):\n",
    "    pattern = r\"^[a-zA-Z0-9_.+-]+@[a-zA-Z0-9-]+\\.[a-zA-Z0-9-.]+$\"\n",
    "    return re.match(pattern, email) is not None\n",
    "\n",
    "data[\"is_valid_email\"] = data[\"email\"].apply(is_valid_email)\n"
   ]
  },
  {
   "cell_type": "markdown",
   "id": "7b1317fe-9927-4271-8f0b-3d289662ae17",
   "metadata": {},
   "source": [
    "Submodule 8: Case Study and Practical Exercises\n",
    "Work on case studies to apply data collection and cleaning techniques to real-world scenarios. For example, you might clean and preprocess a dataset of customer reviews, identifying and resolving issues like duplicate entries and missing values.\n",
    "\n",
    "Benefits:\n",
    "\n",
    "Learners gain hands-on experience in collecting, cleaning, and preprocessing data using real-world examples.\n",
    "They develop practical skills to handle messy data and ensure data quality.\n",
    "By practicing with code examples, learners are better prepared to tackle data challenges in their own projects.\n",
    "Key Takeaways:\n",
    "The \"Data Collection and Cleaning\" submodule equips learners with essential skills to acquire, clean, and prepare data for analysis. These skills are foundational for successful data science projects."
   ]
  },
  {
   "cell_type": "code",
   "execution_count": null,
   "id": "0d5daaa9-3487-4d83-a57d-ce6dd1ffa7be",
   "metadata": {},
   "outputs": [],
   "source": []
  }
 ],
 "metadata": {
  "kernelspec": {
   "display_name": "Python 3 (ipykernel)",
   "language": "python",
   "name": "python3"
  },
  "language_info": {
   "codemirror_mode": {
    "name": "ipython",
    "version": 3
   },
   "file_extension": ".py",
   "mimetype": "text/x-python",
   "name": "python",
   "nbconvert_exporter": "python",
   "pygments_lexer": "ipython3",
   "version": "3.10.8"
  }
 },
 "nbformat": 4,
 "nbformat_minor": 5
}
